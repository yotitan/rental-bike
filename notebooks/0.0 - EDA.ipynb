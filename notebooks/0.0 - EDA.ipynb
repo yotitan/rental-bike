{
 "cells": [
  {
   "cell_type": "code",
   "execution_count": 1,
   "id": "0eda0343",
   "metadata": {},
   "outputs": [],
   "source": [
    "# Import Packages\n",
    "\n",
    "import numpy as np\n",
    "import os\n",
    "import matplotlib as mpl\n",
    "import pandas as pd\n",
    "import matplotlib.pyplot as plt\n",
    "import seaborn as sns\n",
    "\n",
    "from sklearn.model_selection import train_test_split\n",
    "from sklearn.metrics import mean_squared_error\n",
    "from sklearn.linear_model import LinearRegression \n",
    "from sklearn.preprocessing import StandardScaler"
   ]
  },
  {
   "cell_type": "code",
   "execution_count": 2,
   "id": "5740586a",
   "metadata": {},
   "outputs": [],
   "source": [
    "# Set matplotlib axes label\n",
    "\n",
    "mpl.rc('axes',labelsize=14)\n",
    "mpl.rc('xtick',labelsize=12)\n",
    "mpl.rc('ytick',labelsize=12)"
   ]
  },
  {
   "cell_type": "code",
   "execution_count": 3,
   "id": "770388b5",
   "metadata": {},
   "outputs": [],
   "source": [
    "# Setup Figure Saving\n",
    " \n",
    "fig_dir_path = os.path.join( \".\", \"figs\" )\n",
    "os.makedirs( fig_dir_path, exist_ok=True )\n",
    "\n",
    "def save_this( fig_id, tight_layout=True, fig_extension = \"png\", resolution = 300 ):\n",
    "  fig_full_path = os.path.join( fig_dir_path, fig_id + '.' + fig_extension )\n",
    "  print( \"saving figure\", fig_id )\n",
    "  if tight_layout:\n",
    "    plt.tight_layout( )\n",
    "  plt.savefig( fig_full_path, dpi=resolution, format=fig_extension )"
   ]
  },
  {
   "cell_type": "code",
   "execution_count": 4,
   "id": "9270e46f",
   "metadata": {},
   "outputs": [
    {
     "data": {
      "text/html": [
       "<div>\n",
       "<style scoped>\n",
       "    .dataframe tbody tr th:only-of-type {\n",
       "        vertical-align: middle;\n",
       "    }\n",
       "\n",
       "    .dataframe tbody tr th {\n",
       "        vertical-align: top;\n",
       "    }\n",
       "\n",
       "    .dataframe thead th {\n",
       "        text-align: right;\n",
       "    }\n",
       "</style>\n",
       "<table border=\"1\" class=\"dataframe\">\n",
       "  <thead>\n",
       "    <tr style=\"text-align: right;\">\n",
       "      <th></th>\n",
       "      <th>Unnamed: 0</th>\n",
       "      <th>Date</th>\n",
       "      <th>Rented Bike Count</th>\n",
       "      <th>Hour</th>\n",
       "      <th>Temperature(C)</th>\n",
       "      <th>Humidity(%)</th>\n",
       "      <th>Wind speed (m/s)</th>\n",
       "      <th>Visibility (10m)</th>\n",
       "      <th>Dew point temperature(C)</th>\n",
       "      <th>Solar Radiation (MJ/m2)</th>\n",
       "      <th>Rainfall(mm)</th>\n",
       "      <th>Snowfall (cm)</th>\n",
       "      <th>Seasons</th>\n",
       "      <th>Holiday</th>\n",
       "      <th>Functioning Day</th>\n",
       "      <th>Rain</th>\n",
       "      <th>Precip</th>\n",
       "    </tr>\n",
       "  </thead>\n",
       "  <tbody>\n",
       "    <tr>\n",
       "      <th>0</th>\n",
       "      <td>0</td>\n",
       "      <td>01-12-2017</td>\n",
       "      <td>254</td>\n",
       "      <td>0</td>\n",
       "      <td>-5.2</td>\n",
       "      <td>37</td>\n",
       "      <td>2.2</td>\n",
       "      <td>2000</td>\n",
       "      <td>-17.6</td>\n",
       "      <td>0.0</td>\n",
       "      <td>0.0</td>\n",
       "      <td>0.0</td>\n",
       "      <td>Winter</td>\n",
       "      <td>No Holiday</td>\n",
       "      <td>Yes</td>\n",
       "      <td>False</td>\n",
       "      <td>False</td>\n",
       "    </tr>\n",
       "    <tr>\n",
       "      <th>1</th>\n",
       "      <td>1</td>\n",
       "      <td>01-12-2017</td>\n",
       "      <td>204</td>\n",
       "      <td>1</td>\n",
       "      <td>-5.5</td>\n",
       "      <td>38</td>\n",
       "      <td>0.8</td>\n",
       "      <td>2000</td>\n",
       "      <td>-17.6</td>\n",
       "      <td>0.0</td>\n",
       "      <td>0.0</td>\n",
       "      <td>0.0</td>\n",
       "      <td>Winter</td>\n",
       "      <td>No Holiday</td>\n",
       "      <td>Yes</td>\n",
       "      <td>False</td>\n",
       "      <td>False</td>\n",
       "    </tr>\n",
       "    <tr>\n",
       "      <th>2</th>\n",
       "      <td>2</td>\n",
       "      <td>01-12-2017</td>\n",
       "      <td>173</td>\n",
       "      <td>2</td>\n",
       "      <td>-6.0</td>\n",
       "      <td>39</td>\n",
       "      <td>1.0</td>\n",
       "      <td>2000</td>\n",
       "      <td>-17.7</td>\n",
       "      <td>0.0</td>\n",
       "      <td>0.0</td>\n",
       "      <td>0.0</td>\n",
       "      <td>Winter</td>\n",
       "      <td>No Holiday</td>\n",
       "      <td>Yes</td>\n",
       "      <td>False</td>\n",
       "      <td>False</td>\n",
       "    </tr>\n",
       "    <tr>\n",
       "      <th>3</th>\n",
       "      <td>3</td>\n",
       "      <td>01-12-2017</td>\n",
       "      <td>107</td>\n",
       "      <td>3</td>\n",
       "      <td>-6.2</td>\n",
       "      <td>40</td>\n",
       "      <td>0.9</td>\n",
       "      <td>2000</td>\n",
       "      <td>-17.6</td>\n",
       "      <td>0.0</td>\n",
       "      <td>0.0</td>\n",
       "      <td>0.0</td>\n",
       "      <td>Winter</td>\n",
       "      <td>No Holiday</td>\n",
       "      <td>Yes</td>\n",
       "      <td>False</td>\n",
       "      <td>False</td>\n",
       "    </tr>\n",
       "    <tr>\n",
       "      <th>4</th>\n",
       "      <td>4</td>\n",
       "      <td>01-12-2017</td>\n",
       "      <td>78</td>\n",
       "      <td>4</td>\n",
       "      <td>-6.0</td>\n",
       "      <td>36</td>\n",
       "      <td>2.3</td>\n",
       "      <td>2000</td>\n",
       "      <td>-18.6</td>\n",
       "      <td>0.0</td>\n",
       "      <td>0.0</td>\n",
       "      <td>0.0</td>\n",
       "      <td>Winter</td>\n",
       "      <td>No Holiday</td>\n",
       "      <td>Yes</td>\n",
       "      <td>False</td>\n",
       "      <td>False</td>\n",
       "    </tr>\n",
       "  </tbody>\n",
       "</table>\n",
       "</div>"
      ],
      "text/plain": [
       "   Unnamed: 0        Date  Rented Bike Count  Hour  Temperature(C)  \\\n",
       "0           0  01-12-2017                254     0            -5.2   \n",
       "1           1  01-12-2017                204     1            -5.5   \n",
       "2           2  01-12-2017                173     2            -6.0   \n",
       "3           3  01-12-2017                107     3            -6.2   \n",
       "4           4  01-12-2017                 78     4            -6.0   \n",
       "\n",
       "   Humidity(%)  Wind speed (m/s)  Visibility (10m)  Dew point temperature(C)  \\\n",
       "0           37               2.2              2000                     -17.6   \n",
       "1           38               0.8              2000                     -17.6   \n",
       "2           39               1.0              2000                     -17.7   \n",
       "3           40               0.9              2000                     -17.6   \n",
       "4           36               2.3              2000                     -18.6   \n",
       "\n",
       "   Solar Radiation (MJ/m2)  Rainfall(mm)  Snowfall (cm) Seasons     Holiday  \\\n",
       "0                      0.0           0.0            0.0  Winter  No Holiday   \n",
       "1                      0.0           0.0            0.0  Winter  No Holiday   \n",
       "2                      0.0           0.0            0.0  Winter  No Holiday   \n",
       "3                      0.0           0.0            0.0  Winter  No Holiday   \n",
       "4                      0.0           0.0            0.0  Winter  No Holiday   \n",
       "\n",
       "  Functioning Day   Rain  Precip  \n",
       "0             Yes  False   False  \n",
       "1             Yes  False   False  \n",
       "2             Yes  False   False  \n",
       "3             Yes  False   False  \n",
       "4             Yes  False   False  "
      ]
     },
     "execution_count": 4,
     "metadata": {},
     "output_type": "execute_result"
    }
   ],
   "source": [
    "# Read input data\n",
    "\n",
    "df = pd.read_csv( 'input/SeoulBikeData_MP1 Old.csv' )\n",
    "df.head( )"
   ]
  },
  {
   "cell_type": "code",
   "execution_count": 5,
   "id": "1374da20",
   "metadata": {},
   "outputs": [
    {
     "data": {
      "text/plain": [
       "(8760, 17)"
      ]
     },
     "execution_count": 5,
     "metadata": {},
     "output_type": "execute_result"
    }
   ],
   "source": [
    "df.shape"
   ]
  },
  {
   "cell_type": "code",
   "execution_count": 6,
   "id": "226c4b45",
   "metadata": {},
   "outputs": [
    {
     "name": "stdout",
     "output_type": "stream",
     "text": [
      "<class 'pandas.core.frame.DataFrame'>\n",
      "RangeIndex: 8760 entries, 0 to 8759\n",
      "Data columns (total 17 columns):\n",
      " #   Column                    Non-Null Count  Dtype  \n",
      "---  ------                    --------------  -----  \n",
      " 0   Unnamed: 0                8760 non-null   int64  \n",
      " 1   Date                      8760 non-null   object \n",
      " 2   Rented Bike Count         8760 non-null   int64  \n",
      " 3   Hour                      8760 non-null   int64  \n",
      " 4   Temperature(C)            8260 non-null   float64\n",
      " 5   Humidity(%)               8760 non-null   int64  \n",
      " 6   Wind speed (m/s)          8760 non-null   float64\n",
      " 7   Visibility (10m)          8760 non-null   int64  \n",
      " 8   Dew point temperature(C)  8760 non-null   float64\n",
      " 9   Solar Radiation (MJ/m2)   8760 non-null   float64\n",
      " 10  Rainfall(mm)              8760 non-null   float64\n",
      " 11  Snowfall (cm)             8760 non-null   float64\n",
      " 12  Seasons                   8760 non-null   object \n",
      " 13  Holiday                   8760 non-null   object \n",
      " 14  Functioning Day           8760 non-null   object \n",
      " 15  Rain                      8760 non-null   bool   \n",
      " 16  Precip                    8760 non-null   bool   \n",
      "dtypes: bool(2), float64(6), int64(5), object(4)\n",
      "memory usage: 1.0+ MB\n"
     ]
    }
   ],
   "source": [
    "df.info( )"
   ]
  },
  {
   "cell_type": "code",
   "execution_count": 7,
   "id": "31e4b1ee",
   "metadata": {},
   "outputs": [],
   "source": [
    "df.drop( 'Unnamed: 0', inplace=True, axis='columns' )"
   ]
  },
  {
   "cell_type": "code",
   "execution_count": 8,
   "id": "97be14f8",
   "metadata": {},
   "outputs": [
    {
     "name": "stdout",
     "output_type": "stream",
     "text": [
      "<class 'pandas.core.frame.DataFrame'>\n",
      "RangeIndex: 8760 entries, 0 to 8759\n",
      "Data columns (total 16 columns):\n",
      " #   Column                    Non-Null Count  Dtype  \n",
      "---  ------                    --------------  -----  \n",
      " 0   Date                      8760 non-null   object \n",
      " 1   Rented Bike Count         8760 non-null   int64  \n",
      " 2   Hour                      8760 non-null   int64  \n",
      " 3   Temperature(C)            8260 non-null   float64\n",
      " 4   Humidity(%)               8760 non-null   int64  \n",
      " 5   Wind speed (m/s)          8760 non-null   float64\n",
      " 6   Visibility (10m)          8760 non-null   int64  \n",
      " 7   Dew point temperature(C)  8760 non-null   float64\n",
      " 8   Solar Radiation (MJ/m2)   8760 non-null   float64\n",
      " 9   Rainfall(mm)              8760 non-null   float64\n",
      " 10  Snowfall (cm)             8760 non-null   float64\n",
      " 11  Seasons                   8760 non-null   object \n",
      " 12  Holiday                   8760 non-null   object \n",
      " 13  Functioning Day           8760 non-null   object \n",
      " 14  Rain                      8760 non-null   bool   \n",
      " 15  Precip                    8760 non-null   bool   \n",
      "dtypes: bool(2), float64(6), int64(4), object(4)\n",
      "memory usage: 975.4+ KB\n"
     ]
    }
   ],
   "source": [
    "df.info( )"
   ]
  },
  {
   "cell_type": "code",
   "execution_count": 9,
   "id": "65aaf9c1",
   "metadata": {},
   "outputs": [
    {
     "data": {
      "text/plain": [
       "01-12-2017    24\n",
       "09-08-2018    24\n",
       "07-08-2018    24\n",
       "06-08-2018    24\n",
       "05-08-2018    24\n",
       "              ..\n",
       "31-03-2018    24\n",
       "30-03-2018    24\n",
       "29-03-2018    24\n",
       "28-03-2018    24\n",
       "30-11-2018    24\n",
       "Name: Date, Length: 365, dtype: int64"
      ]
     },
     "execution_count": 9,
     "metadata": {},
     "output_type": "execute_result"
    }
   ],
   "source": [
    "df['Date'].value_counts( )"
   ]
  },
  {
   "cell_type": "code",
   "execution_count": 10,
   "id": "1dfe85d7",
   "metadata": {},
   "outputs": [
    {
     "data": {
      "text/plain": [
       "0     365\n",
       "1     365\n",
       "22    365\n",
       "21    365\n",
       "20    365\n",
       "19    365\n",
       "18    365\n",
       "17    365\n",
       "16    365\n",
       "15    365\n",
       "14    365\n",
       "13    365\n",
       "12    365\n",
       "11    365\n",
       "10    365\n",
       "9     365\n",
       "8     365\n",
       "7     365\n",
       "6     365\n",
       "5     365\n",
       "4     365\n",
       "3     365\n",
       "2     365\n",
       "23    365\n",
       "Name: Hour, dtype: int64"
      ]
     },
     "execution_count": 10,
     "metadata": {},
     "output_type": "execute_result"
    }
   ],
   "source": [
    "df['Hour'].value_counts( )"
   ]
  },
  {
   "cell_type": "code",
   "execution_count": 11,
   "id": "41f7e17f",
   "metadata": {},
   "outputs": [
    {
     "data": {
      "text/plain": [
       "Spring    92.0\n",
       "Summer    92.0\n",
       "Autumn    91.0\n",
       "Winter    90.0\n",
       "Name: Seasons, dtype: float64"
      ]
     },
     "execution_count": 11,
     "metadata": {},
     "output_type": "execute_result"
    }
   ],
   "source": [
    "df['Seasons'].value_counts( ) / 24"
   ]
  },
  {
   "cell_type": "code",
   "execution_count": 12,
   "id": "c23eda26",
   "metadata": {},
   "outputs": [
    {
     "data": {
      "text/plain": [
       "No Holiday    8328\n",
       "Holiday        432\n",
       "Name: Holiday, dtype: int64"
      ]
     },
     "execution_count": 12,
     "metadata": {},
     "output_type": "execute_result"
    }
   ],
   "source": [
    "df['Holiday'].value_counts( )"
   ]
  },
  {
   "cell_type": "code",
   "execution_count": 13,
   "id": "eac09199",
   "metadata": {},
   "outputs": [
    {
     "data": {
      "text/plain": [
       "Yes    8465\n",
       "No      295\n",
       "Name: Functioning Day, dtype: int64"
      ]
     },
     "execution_count": 13,
     "metadata": {},
     "output_type": "execute_result"
    }
   ],
   "source": [
    "df['Functioning Day'].value_counts( )"
   ]
  },
  {
   "cell_type": "code",
   "execution_count": 14,
   "id": "9adf1dd8",
   "metadata": {},
   "outputs": [
    {
     "data": {
      "text/plain": [
       "0"
      ]
     },
     "execution_count": 14,
     "metadata": {},
     "output_type": "execute_result"
    }
   ],
   "source": [
    "df[ df['Functioning Day'] == 'No' ]['Rented Bike Count'].sum( )"
   ]
  },
  {
   "cell_type": "markdown",
   "id": "854fbb71",
   "metadata": {},
   "source": [
    "Rented Bike Count will always be zero if Functioning Day is No"
   ]
  },
  {
   "cell_type": "code",
   "execution_count": 15,
   "id": "d344435d",
   "metadata": {},
   "outputs": [
    {
     "data": {
      "text/plain": [
       "False    8232\n",
       "True      528\n",
       "Name: Rain, dtype: int64"
      ]
     },
     "execution_count": 15,
     "metadata": {},
     "output_type": "execute_result"
    }
   ],
   "source": [
    "df['Rain'].value_counts( )"
   ]
  },
  {
   "cell_type": "code",
   "execution_count": 16,
   "id": "2e79d05f",
   "metadata": {},
   "outputs": [
    {
     "data": {
      "text/plain": [
       "False    7817\n",
       "True      943\n",
       "Name: Precip, dtype: int64"
      ]
     },
     "execution_count": 16,
     "metadata": {},
     "output_type": "execute_result"
    }
   ],
   "source": [
    "df['Precip'].value_counts( )"
   ]
  },
  {
   "cell_type": "markdown",
   "id": "a9caf339",
   "metadata": {},
   "source": [
    "# If Rain is True then Precip will also be True"
   ]
  },
  {
   "cell_type": "code",
   "execution_count": 17,
   "id": "f838a79e",
   "metadata": {},
   "outputs": [
    {
     "data": {
      "text/plain": [
       "(0, 16)"
      ]
     },
     "execution_count": 17,
     "metadata": {},
     "output_type": "execute_result"
    }
   ],
   "source": [
    "df[ (df['Rain'] == True) & (df['Precip'] == False) ].shape"
   ]
  },
  {
   "cell_type": "code",
   "execution_count": 18,
   "id": "dd4d77f9",
   "metadata": {},
   "outputs": [
    {
     "data": {
      "text/html": [
       "<div>\n",
       "<style scoped>\n",
       "    .dataframe tbody tr th:only-of-type {\n",
       "        vertical-align: middle;\n",
       "    }\n",
       "\n",
       "    .dataframe tbody tr th {\n",
       "        vertical-align: top;\n",
       "    }\n",
       "\n",
       "    .dataframe thead th {\n",
       "        text-align: right;\n",
       "    }\n",
       "</style>\n",
       "<table border=\"1\" class=\"dataframe\">\n",
       "  <thead>\n",
       "    <tr style=\"text-align: right;\">\n",
       "      <th></th>\n",
       "      <th>Rented Bike Count</th>\n",
       "      <th>Hour</th>\n",
       "      <th>Temperature(C)</th>\n",
       "      <th>Humidity(%)</th>\n",
       "      <th>Wind speed (m/s)</th>\n",
       "      <th>Visibility (10m)</th>\n",
       "      <th>Dew point temperature(C)</th>\n",
       "      <th>Solar Radiation (MJ/m2)</th>\n",
       "      <th>Rainfall(mm)</th>\n",
       "      <th>Snowfall (cm)</th>\n",
       "    </tr>\n",
       "  </thead>\n",
       "  <tbody>\n",
       "    <tr>\n",
       "      <th>count</th>\n",
       "      <td>8760.000000</td>\n",
       "      <td>8760.000000</td>\n",
       "      <td>8260.000000</td>\n",
       "      <td>8760.000000</td>\n",
       "      <td>8760.000000</td>\n",
       "      <td>8760.000000</td>\n",
       "      <td>8760.000000</td>\n",
       "      <td>8760.000000</td>\n",
       "      <td>8760.000000</td>\n",
       "      <td>8760.000000</td>\n",
       "    </tr>\n",
       "    <tr>\n",
       "      <th>mean</th>\n",
       "      <td>704.602055</td>\n",
       "      <td>11.500000</td>\n",
       "      <td>12.877349</td>\n",
       "      <td>58.226256</td>\n",
       "      <td>1.724909</td>\n",
       "      <td>1436.825799</td>\n",
       "      <td>4.073813</td>\n",
       "      <td>0.569111</td>\n",
       "      <td>0.148687</td>\n",
       "      <td>0.075068</td>\n",
       "    </tr>\n",
       "    <tr>\n",
       "      <th>std</th>\n",
       "      <td>644.997468</td>\n",
       "      <td>6.922582</td>\n",
       "      <td>11.957556</td>\n",
       "      <td>20.362413</td>\n",
       "      <td>1.036300</td>\n",
       "      <td>608.298712</td>\n",
       "      <td>13.060369</td>\n",
       "      <td>0.868746</td>\n",
       "      <td>1.128193</td>\n",
       "      <td>0.436746</td>\n",
       "    </tr>\n",
       "    <tr>\n",
       "      <th>min</th>\n",
       "      <td>0.000000</td>\n",
       "      <td>0.000000</td>\n",
       "      <td>-17.500000</td>\n",
       "      <td>0.000000</td>\n",
       "      <td>0.000000</td>\n",
       "      <td>27.000000</td>\n",
       "      <td>-30.600000</td>\n",
       "      <td>0.000000</td>\n",
       "      <td>0.000000</td>\n",
       "      <td>0.000000</td>\n",
       "    </tr>\n",
       "    <tr>\n",
       "      <th>25%</th>\n",
       "      <td>191.000000</td>\n",
       "      <td>5.750000</td>\n",
       "      <td>3.500000</td>\n",
       "      <td>42.000000</td>\n",
       "      <td>0.900000</td>\n",
       "      <td>940.000000</td>\n",
       "      <td>-4.700000</td>\n",
       "      <td>0.000000</td>\n",
       "      <td>0.000000</td>\n",
       "      <td>0.000000</td>\n",
       "    </tr>\n",
       "    <tr>\n",
       "      <th>50%</th>\n",
       "      <td>504.500000</td>\n",
       "      <td>11.500000</td>\n",
       "      <td>13.750000</td>\n",
       "      <td>57.000000</td>\n",
       "      <td>1.500000</td>\n",
       "      <td>1698.000000</td>\n",
       "      <td>5.100000</td>\n",
       "      <td>0.010000</td>\n",
       "      <td>0.000000</td>\n",
       "      <td>0.000000</td>\n",
       "    </tr>\n",
       "    <tr>\n",
       "      <th>75%</th>\n",
       "      <td>1065.250000</td>\n",
       "      <td>17.250000</td>\n",
       "      <td>22.500000</td>\n",
       "      <td>74.000000</td>\n",
       "      <td>2.300000</td>\n",
       "      <td>2000.000000</td>\n",
       "      <td>14.800000</td>\n",
       "      <td>0.930000</td>\n",
       "      <td>0.000000</td>\n",
       "      <td>0.000000</td>\n",
       "    </tr>\n",
       "    <tr>\n",
       "      <th>max</th>\n",
       "      <td>3556.000000</td>\n",
       "      <td>23.000000</td>\n",
       "      <td>39.400000</td>\n",
       "      <td>98.000000</td>\n",
       "      <td>7.400000</td>\n",
       "      <td>2000.000000</td>\n",
       "      <td>27.200000</td>\n",
       "      <td>3.520000</td>\n",
       "      <td>35.000000</td>\n",
       "      <td>8.800000</td>\n",
       "    </tr>\n",
       "  </tbody>\n",
       "</table>\n",
       "</div>"
      ],
      "text/plain": [
       "       Rented Bike Count         Hour  Temperature(C)  Humidity(%)  \\\n",
       "count        8760.000000  8760.000000     8260.000000  8760.000000   \n",
       "mean          704.602055    11.500000       12.877349    58.226256   \n",
       "std           644.997468     6.922582       11.957556    20.362413   \n",
       "min             0.000000     0.000000      -17.500000     0.000000   \n",
       "25%           191.000000     5.750000        3.500000    42.000000   \n",
       "50%           504.500000    11.500000       13.750000    57.000000   \n",
       "75%          1065.250000    17.250000       22.500000    74.000000   \n",
       "max          3556.000000    23.000000       39.400000    98.000000   \n",
       "\n",
       "       Wind speed (m/s)  Visibility (10m)  Dew point temperature(C)  \\\n",
       "count       8760.000000       8760.000000               8760.000000   \n",
       "mean           1.724909       1436.825799                  4.073813   \n",
       "std            1.036300        608.298712                 13.060369   \n",
       "min            0.000000         27.000000                -30.600000   \n",
       "25%            0.900000        940.000000                 -4.700000   \n",
       "50%            1.500000       1698.000000                  5.100000   \n",
       "75%            2.300000       2000.000000                 14.800000   \n",
       "max            7.400000       2000.000000                 27.200000   \n",
       "\n",
       "       Solar Radiation (MJ/m2)  Rainfall(mm)  Snowfall (cm)  \n",
       "count              8760.000000   8760.000000    8760.000000  \n",
       "mean                  0.569111      0.148687       0.075068  \n",
       "std                   0.868746      1.128193       0.436746  \n",
       "min                   0.000000      0.000000       0.000000  \n",
       "25%                   0.000000      0.000000       0.000000  \n",
       "50%                   0.010000      0.000000       0.000000  \n",
       "75%                   0.930000      0.000000       0.000000  \n",
       "max                   3.520000     35.000000       8.800000  "
      ]
     },
     "execution_count": 18,
     "metadata": {},
     "output_type": "execute_result"
    }
   ],
   "source": [
    "df.describe( )"
   ]
  },
  {
   "cell_type": "code",
   "execution_count": 19,
   "id": "c667ea29",
   "metadata": {},
   "outputs": [
    {
     "data": {
      "text/plain": [
       "count    8465.000000\n",
       "mean      729.156999\n",
       "std       642.351166\n",
       "min         2.000000\n",
       "25%       214.000000\n",
       "50%       542.000000\n",
       "75%      1084.000000\n",
       "max      3556.000000\n",
       "Name: Rented Bike Count, dtype: float64"
      ]
     },
     "execution_count": 19,
     "metadata": {},
     "output_type": "execute_result"
    }
   ],
   "source": [
    "df[ df['Functioning Day'] == 'Yes' ]['Rented Bike Count'].describe( )"
   ]
  },
  {
   "cell_type": "code",
   "execution_count": 20,
   "id": "ea680f4b",
   "metadata": {},
   "outputs": [
    {
     "name": "stdout",
     "output_type": "stream",
     "text": [
      "saving figure df_value_histogram\n"
     ]
    },
    {
     "data": {
      "image/png": "[encoded data removed]",
      "text/plain": [
       "<Figure size 1440x1080 with 12 Axes>"
      ]
     },
     "metadata": {
      "needs_background": "light"
     },
     "output_type": "display_data"
    }
   ],
   "source": [
    "df.hist( bins=25, figsize=(20,15) )\n",
    "save_this( \"df_value_histogram\" )"
   ]
  },
  {
   "cell_type": "code",
   "execution_count": 21,
   "id": "42a32eec",
   "metadata": {},
   "outputs": [],
   "source": [
    "df_train, df_test = train_test_split( df, test_size=0.2, random_state=42 )\n",
    "\n",
    "bike_df = df_train.copy( )"
   ]
  },
  {
   "cell_type": "code",
   "execution_count": 22,
   "id": "067f6c5f",
   "metadata": {},
   "outputs": [],
   "source": [
    "bike_df['Day'] = bike_df['Date'].astype( str ).str[:2]\n",
    "bike_df['Month'] = bike_df['Date'].astype( str ).str[3:5]\n",
    "bike_df['Year'] = bike_df['Date'].astype( str ).str[6:10]"
   ]
  },
  {
   "cell_type": "code",
   "execution_count": 23,
   "id": "a212b5de",
   "metadata": {},
   "outputs": [],
   "source": [
    "bike_df['Weekday'] = pd.to_datetime( bike_df['Date'], infer_datetime_format=True ).dt.dayofweek"
   ]
  },
  {
   "cell_type": "code",
   "execution_count": 24,
   "id": "9cd2019d",
   "metadata": {},
   "outputs": [
    {
     "data": {
      "text/plain": [
       "5    1016\n",
       "1    1014\n",
       "2    1011\n",
       "4    1010\n",
       "6     995\n",
       "3     990\n",
       "0     972\n",
       "Name: Weekday, dtype: int64"
      ]
     },
     "execution_count": 24,
     "metadata": {},
     "output_type": "execute_result"
    }
   ],
   "source": [
    "bike_df['Weekday'].value_counts( )"
   ]
  },
  {
   "cell_type": "code",
   "execution_count": 25,
   "id": "26a7cbef",
   "metadata": {},
   "outputs": [
    {
     "data": {
      "text/html": [
       "<div>\n",
       "<style scoped>\n",
       "    .dataframe tbody tr th:only-of-type {\n",
       "        vertical-align: middle;\n",
       "    }\n",
       "\n",
       "    .dataframe tbody tr th {\n",
       "        vertical-align: top;\n",
       "    }\n",
       "\n",
       "    .dataframe thead th {\n",
       "        text-align: right;\n",
       "    }\n",
       "</style>\n",
       "<table border=\"1\" class=\"dataframe\">\n",
       "  <thead>\n",
       "    <tr style=\"text-align: right;\">\n",
       "      <th></th>\n",
       "      <th>count</th>\n",
       "      <th>mean</th>\n",
       "      <th>std</th>\n",
       "      <th>min</th>\n",
       "      <th>25%</th>\n",
       "      <th>50%</th>\n",
       "      <th>75%</th>\n",
       "      <th>max</th>\n",
       "    </tr>\n",
       "    <tr>\n",
       "      <th>Weekday</th>\n",
       "      <th></th>\n",
       "      <th></th>\n",
       "      <th></th>\n",
       "      <th></th>\n",
       "      <th></th>\n",
       "      <th></th>\n",
       "      <th></th>\n",
       "      <th></th>\n",
       "    </tr>\n",
       "  </thead>\n",
       "  <tbody>\n",
       "    <tr>\n",
       "      <th>0</th>\n",
       "      <td>972.0</td>\n",
       "      <td>731.656379</td>\n",
       "      <td>665.949650</td>\n",
       "      <td>2.0</td>\n",
       "      <td>190.00</td>\n",
       "      <td>541.0</td>\n",
       "      <td>1099.00</td>\n",
       "      <td>3380.0</td>\n",
       "    </tr>\n",
       "    <tr>\n",
       "      <th>1</th>\n",
       "      <td>1014.0</td>\n",
       "      <td>693.000000</td>\n",
       "      <td>649.202265</td>\n",
       "      <td>0.0</td>\n",
       "      <td>183.25</td>\n",
       "      <td>495.5</td>\n",
       "      <td>1036.50</td>\n",
       "      <td>3404.0</td>\n",
       "    </tr>\n",
       "    <tr>\n",
       "      <th>2</th>\n",
       "      <td>1011.0</td>\n",
       "      <td>736.290801</td>\n",
       "      <td>686.900792</td>\n",
       "      <td>0.0</td>\n",
       "      <td>196.50</td>\n",
       "      <td>509.0</td>\n",
       "      <td>1098.00</td>\n",
       "      <td>3384.0</td>\n",
       "    </tr>\n",
       "    <tr>\n",
       "      <th>3</th>\n",
       "      <td>990.0</td>\n",
       "      <td>701.970707</td>\n",
       "      <td>649.471723</td>\n",
       "      <td>0.0</td>\n",
       "      <td>187.00</td>\n",
       "      <td>507.0</td>\n",
       "      <td>1068.00</td>\n",
       "      <td>3418.0</td>\n",
       "    </tr>\n",
       "    <tr>\n",
       "      <th>4</th>\n",
       "      <td>1010.0</td>\n",
       "      <td>739.316832</td>\n",
       "      <td>643.760956</td>\n",
       "      <td>0.0</td>\n",
       "      <td>232.25</td>\n",
       "      <td>569.0</td>\n",
       "      <td>1108.75</td>\n",
       "      <td>3196.0</td>\n",
       "    </tr>\n",
       "    <tr>\n",
       "      <th>5</th>\n",
       "      <td>1016.0</td>\n",
       "      <td>707.317913</td>\n",
       "      <td>604.786126</td>\n",
       "      <td>0.0</td>\n",
       "      <td>219.00</td>\n",
       "      <td>517.0</td>\n",
       "      <td>1073.50</td>\n",
       "      <td>2497.0</td>\n",
       "    </tr>\n",
       "    <tr>\n",
       "      <th>6</th>\n",
       "      <td>995.0</td>\n",
       "      <td>623.572864</td>\n",
       "      <td>604.839699</td>\n",
       "      <td>0.0</td>\n",
       "      <td>161.50</td>\n",
       "      <td>407.0</td>\n",
       "      <td>931.00</td>\n",
       "      <td>2514.0</td>\n",
       "    </tr>\n",
       "  </tbody>\n",
       "</table>\n",
       "</div>"
      ],
      "text/plain": [
       "          count        mean         std  min     25%    50%      75%     max\n",
       "Weekday                                                                     \n",
       "0         972.0  731.656379  665.949650  2.0  190.00  541.0  1099.00  3380.0\n",
       "1        1014.0  693.000000  649.202265  0.0  183.25  495.5  1036.50  3404.0\n",
       "2        1011.0  736.290801  686.900792  0.0  196.50  509.0  1098.00  3384.0\n",
       "3         990.0  701.970707  649.471723  0.0  187.00  507.0  1068.00  3418.0\n",
       "4        1010.0  739.316832  643.760956  0.0  232.25  569.0  1108.75  3196.0\n",
       "5        1016.0  707.317913  604.786126  0.0  219.00  517.0  1073.50  2497.0\n",
       "6         995.0  623.572864  604.839699  0.0  161.50  407.0   931.00  2514.0"
      ]
     },
     "execution_count": 25,
     "metadata": {},
     "output_type": "execute_result"
    }
   ],
   "source": [
    "bike_df.groupby(['Weekday'])['Rented Bike Count'].describe( )"
   ]
  },
  {
   "cell_type": "code",
   "execution_count": 26,
   "id": "0cfa7f83",
   "metadata": {},
   "outputs": [
    {
     "data": {
      "text/plain": [
       "Rented Bike Count           1.000000\n",
       "Temperature(C)              0.538230\n",
       "Hour                        0.418294\n",
       "Dew point temperature(C)    0.377737\n",
       "Solar Radiation (MJ/m2)     0.258930\n",
       "Visibility (10m)            0.204672\n",
       "Wind speed (m/s)            0.121388\n",
       "Weekday                    -0.032051\n",
       "Rainfall(mm)               -0.123586\n",
       "Snowfall (cm)              -0.141440\n",
       "Humidity(%)                -0.202004\n",
       "Rain                       -0.212752\n",
       "Precip                     -0.285473\n",
       "Name: Rented Bike Count, dtype: float64"
      ]
     },
     "execution_count": 26,
     "metadata": {},
     "output_type": "execute_result"
    }
   ],
   "source": [
    "bike_df.corr( )['Rented Bike Count'].sort_values( ascending=False )"
   ]
  },
  {
   "cell_type": "markdown",
   "id": "aee89b61",
   "metadata": {},
   "source": [
    "# Precip logic"
   ]
  },
  {
   "cell_type": "code",
   "execution_count": 27,
   "id": "ba96b443",
   "metadata": {},
   "outputs": [],
   "source": [
    "bike_df['Precip_test'] = np.where( (bike_df['Rainfall(mm)']>0) | (bike_df['Snowfall (cm)']>0), True, False )"
   ]
  },
  {
   "cell_type": "code",
   "execution_count": 28,
   "id": "75ee61ad",
   "metadata": {},
   "outputs": [
    {
     "data": {
      "text/plain": [
       "False    6248\n",
       "True      760\n",
       "Name: Precip_test, dtype: int64"
      ]
     },
     "execution_count": 28,
     "metadata": {},
     "output_type": "execute_result"
    }
   ],
   "source": [
    "bike_df['Precip_test'].value_counts( )"
   ]
  },
  {
   "cell_type": "code",
   "execution_count": 29,
   "id": "e938626f",
   "metadata": {},
   "outputs": [
    {
     "data": {
      "text/plain": [
       "False    6248\n",
       "True      760\n",
       "Name: Precip, dtype: int64"
      ]
     },
     "execution_count": 29,
     "metadata": {},
     "output_type": "execute_result"
    }
   ],
   "source": [
    "bike_df['Precip'].value_counts( )"
   ]
  },
  {
   "cell_type": "code",
   "execution_count": 30,
   "id": "03aef9ea",
   "metadata": {},
   "outputs": [],
   "source": [
    "bike_df.drop( columns=['Precip_test'], inplace=True )"
   ]
  },
  {
   "cell_type": "markdown",
   "id": "89583bc3",
   "metadata": {},
   "source": [
    "# Precip Model (This is completely useless to the requirements)"
   ]
  },
  {
   "cell_type": "code",
   "execution_count": 31,
   "id": "37b6404c",
   "metadata": {},
   "outputs": [
    {
     "data": {
      "text/plain": [
       "Precip                      1.000000\n",
       "Rain                        0.730351\n",
       "Snowfall (cm)               0.490373\n",
       "Rainfall(mm)                0.384265\n",
       "Humidity(%)                 0.333091\n",
       "Wind speed (m/s)            0.005499\n",
       "Weekday                    -0.019295\n",
       "Dew point temperature(C)   -0.026782\n",
       "Hour                       -0.039865\n",
       "Solar Radiation (MJ/m2)    -0.159358\n",
       "Temperature(C)             -0.167090\n",
       "Visibility (10m)           -0.253241\n",
       "Rented Bike Count          -0.285473\n",
       "Name: Precip, dtype: float64"
      ]
     },
     "execution_count": 31,
     "metadata": {},
     "output_type": "execute_result"
    }
   ],
   "source": [
    "bike_df.corr( )['Precip'].sort_values( ascending=False )"
   ]
  },
  {
   "cell_type": "markdown",
   "id": "102c3fe3",
   "metadata": {},
   "source": [
    "Snowfall (cm), Rainfall(mm), Humidity(%), Visibility (10m) can be used to predict precip"
   ]
  },
  {
   "cell_type": "code",
   "execution_count": 32,
   "id": "7ebe84a6",
   "metadata": {},
   "outputs": [
    {
     "data": {
      "text/html": [
       "<div>\n",
       "<style scoped>\n",
       "    .dataframe tbody tr th:only-of-type {\n",
       "        vertical-align: middle;\n",
       "    }\n",
       "\n",
       "    .dataframe tbody tr th {\n",
       "        vertical-align: top;\n",
       "    }\n",
       "\n",
       "    .dataframe thead th {\n",
       "        text-align: right;\n",
       "    }\n",
       "</style>\n",
       "<table border=\"1\" class=\"dataframe\">\n",
       "  <thead>\n",
       "    <tr style=\"text-align: right;\">\n",
       "      <th></th>\n",
       "      <th>Snowfall (cm)</th>\n",
       "      <th>Rainfall(mm)</th>\n",
       "      <th>Humidity(%)</th>\n",
       "      <th>Solar Radiation (MJ/m2)</th>\n",
       "      <th>Temperature(C)</th>\n",
       "      <th>Visibility (10m)</th>\n",
       "      <th>Precip</th>\n",
       "    </tr>\n",
       "  </thead>\n",
       "  <tbody>\n",
       "    <tr>\n",
       "      <th>8415</th>\n",
       "      <td>0.0</td>\n",
       "      <td>0.0</td>\n",
       "      <td>61</td>\n",
       "      <td>1.03</td>\n",
       "      <td>13.2</td>\n",
       "      <td>719</td>\n",
       "      <td>False</td>\n",
       "    </tr>\n",
       "    <tr>\n",
       "      <th>5049</th>\n",
       "      <td>0.0</td>\n",
       "      <td>0.0</td>\n",
       "      <td>86</td>\n",
       "      <td>0.76</td>\n",
       "      <td>22.9</td>\n",
       "      <td>538</td>\n",
       "      <td>False</td>\n",
       "    </tr>\n",
       "    <tr>\n",
       "      <th>8395</th>\n",
       "      <td>0.0</td>\n",
       "      <td>0.0</td>\n",
       "      <td>46</td>\n",
       "      <td>0.00</td>\n",
       "      <td>11.2</td>\n",
       "      <td>869</td>\n",
       "      <td>False</td>\n",
       "    </tr>\n",
       "    <tr>\n",
       "      <th>1535</th>\n",
       "      <td>0.0</td>\n",
       "      <td>0.0</td>\n",
       "      <td>69</td>\n",
       "      <td>0.00</td>\n",
       "      <td>-2.6</td>\n",
       "      <td>1434</td>\n",
       "      <td>False</td>\n",
       "    </tr>\n",
       "    <tr>\n",
       "      <th>5518</th>\n",
       "      <td>0.0</td>\n",
       "      <td>0.0</td>\n",
       "      <td>73</td>\n",
       "      <td>0.00</td>\n",
       "      <td>27.2</td>\n",
       "      <td>1005</td>\n",
       "      <td>False</td>\n",
       "    </tr>\n",
       "  </tbody>\n",
       "</table>\n",
       "</div>"
      ],
      "text/plain": [
       "      Snowfall (cm)  Rainfall(mm)  Humidity(%)  Solar Radiation (MJ/m2)  \\\n",
       "8415            0.0           0.0           61                     1.03   \n",
       "5049            0.0           0.0           86                     0.76   \n",
       "8395            0.0           0.0           46                     0.00   \n",
       "1535            0.0           0.0           69                     0.00   \n",
       "5518            0.0           0.0           73                     0.00   \n",
       "\n",
       "      Temperature(C)  Visibility (10m)  Precip  \n",
       "8415            13.2               719   False  \n",
       "5049            22.9               538   False  \n",
       "8395            11.2               869   False  \n",
       "1535            -2.6              1434   False  \n",
       "5518            27.2              1005   False  "
      ]
     },
     "execution_count": 32,
     "metadata": {},
     "output_type": "execute_result"
    }
   ],
   "source": [
    "precip_df = bike_df[ ['Snowfall (cm)', 'Rainfall(mm)', 'Humidity(%)', \n",
    "                      'Solar Radiation (MJ/m2)', 'Temperature(C)', \n",
    "                      'Visibility (10m)', 'Precip'] ].copy( )\n",
    "\n",
    "precip_df.head( )"
   ]
  },
  {
   "cell_type": "code",
   "execution_count": 33,
   "id": "927bd34f",
   "metadata": {},
   "outputs": [
    {
     "data": {
      "text/plain": [
       "(7008, 7)"
      ]
     },
     "execution_count": 33,
     "metadata": {},
     "output_type": "execute_result"
    }
   ],
   "source": [
    "precip_df.shape"
   ]
  },
  {
   "cell_type": "code",
   "execution_count": 34,
   "id": "551e2c5f",
   "metadata": {},
   "outputs": [
    {
     "name": "stdout",
     "output_type": "stream",
     "text": [
      "<class 'pandas.core.frame.DataFrame'>\n",
      "Int64Index: 7008 entries, 8415 to 7270\n",
      "Data columns (total 7 columns):\n",
      " #   Column                   Non-Null Count  Dtype  \n",
      "---  ------                   --------------  -----  \n",
      " 0   Snowfall (cm)            7008 non-null   float64\n",
      " 1   Rainfall(mm)             7008 non-null   float64\n",
      " 2   Humidity(%)              7008 non-null   int64  \n",
      " 3   Solar Radiation (MJ/m2)  7008 non-null   float64\n",
      " 4   Temperature(C)           6611 non-null   float64\n",
      " 5   Visibility (10m)         7008 non-null   int64  \n",
      " 6   Precip                   7008 non-null   bool   \n",
      "dtypes: bool(1), float64(4), int64(2)\n",
      "memory usage: 390.1 KB\n"
     ]
    }
   ],
   "source": [
    "precip_df.info( )"
   ]
  },
  {
   "cell_type": "code",
   "execution_count": 35,
   "id": "bb67e730",
   "metadata": {},
   "outputs": [
    {
     "name": "stdout",
     "output_type": "stream",
     "text": [
      "(5956, 7)\n",
      "(1052, 7)\n"
     ]
    }
   ],
   "source": [
    "precip_df_train, precip_df_test = train_test_split( precip_df, test_size=0.15, random_state=42 )\n",
    "\n",
    "print( precip_df_train.shape )\n",
    "print( precip_df_test.shape )"
   ]
  },
  {
   "cell_type": "code",
   "execution_count": 36,
   "id": "37d848b5",
   "metadata": {},
   "outputs": [
    {
     "name": "stdout",
     "output_type": "stream",
     "text": [
      "13.8\n"
     ]
    }
   ],
   "source": [
    "median_temp = precip_df_train.dropna( subset=['Temperature(C)'] )['Temperature(C)'].median( )\n",
    "print( median_temp )"
   ]
  },
  {
   "cell_type": "code",
   "execution_count": 37,
   "id": "6648ef29",
   "metadata": {},
   "outputs": [],
   "source": [
    "precip_df_train['Temperature(C)'].fillna( median_temp, inplace=True )\n",
    "precip_df_test['Temperature(C)'].fillna( median_temp, inplace=True )"
   ]
  },
  {
   "cell_type": "code",
   "execution_count": 38,
   "id": "91e8065a",
   "metadata": {},
   "outputs": [],
   "source": [
    "from sklearn.naive_bayes import GaussianNB\n",
    "import pickle\n",
    "\n",
    "precip_df_train_X = precip_df_train.drop( columns=['Precip'] )\n",
    "precip_df_train_y = precip_df_train['Precip']\n",
    "\n",
    "gnb = GaussianNB( )\n",
    "\n",
    "precip_model = gnb.fit( precip_df_train_X, precip_df_train_y )\n",
    "pickle.dump( precip_model, open('models/precip_model.bin', 'wb') )"
   ]
  },
  {
   "cell_type": "code",
   "execution_count": 39,
   "id": "9d311a75",
   "metadata": {},
   "outputs": [],
   "source": [
    "loaded_precip_model = pickle.load( open('models/precip_model.bin', 'rb') )"
   ]
  },
  {
   "cell_type": "code",
   "execution_count": 40,
   "id": "dc305f50",
   "metadata": {},
   "outputs": [],
   "source": [
    "precip_df_train_pred = loaded_precip_model.predict( precip_df_train_X )\n",
    "precip_df_train_pred = pd.Series( precip_df_train_pred )"
   ]
  },
  {
   "cell_type": "code",
   "execution_count": 41,
   "id": "e9e1ed4a",
   "metadata": {},
   "outputs": [
    {
     "data": {
      "text/plain": [
       "False    5307\n",
       "True      649\n",
       "dtype: int64"
      ]
     },
     "execution_count": 41,
     "metadata": {},
     "output_type": "execute_result"
    }
   ],
   "source": [
    "precip_df_train_pred.value_counts( )"
   ]
  },
  {
   "cell_type": "code",
   "execution_count": 42,
   "id": "5d00a6d1",
   "metadata": {},
   "outputs": [
    {
     "data": {
      "text/plain": [
       "array([[5304,    0],\n",
       "       [   3,  649]], dtype=int64)"
      ]
     },
     "execution_count": 42,
     "metadata": {},
     "output_type": "execute_result"
    }
   ],
   "source": [
    "from sklearn.metrics import confusion_matrix\n",
    "\n",
    "confusion_matrix( precip_df_train_y, precip_df_train_pred )"
   ]
  },
  {
   "cell_type": "code",
   "execution_count": 43,
   "id": "e170f352",
   "metadata": {},
   "outputs": [],
   "source": [
    "precip_df_test_X = precip_df_test.drop( columns=['Precip'] )\n",
    "precip_df_test_y = precip_df_test['Precip']\n",
    "\n",
    "precip_df_test_pred = loaded_precip_model.predict( precip_df_test_X )\n",
    "precip_df_test_pred = pd.Series( precip_df_test_pred )"
   ]
  },
  {
   "cell_type": "code",
   "execution_count": 44,
   "id": "53d61979",
   "metadata": {},
   "outputs": [
    {
     "data": {
      "text/plain": [
       "False    944\n",
       "True     108\n",
       "dtype: int64"
      ]
     },
     "execution_count": 44,
     "metadata": {},
     "output_type": "execute_result"
    }
   ],
   "source": [
    "precip_df_test_pred.value_counts( )"
   ]
  },
  {
   "cell_type": "code",
   "execution_count": 45,
   "id": "36e3e7b6",
   "metadata": {},
   "outputs": [
    {
     "data": {
      "text/plain": [
       "array([[944,   0],\n",
       "       [  0, 108]], dtype=int64)"
      ]
     },
     "execution_count": 45,
     "metadata": {},
     "output_type": "execute_result"
    }
   ],
   "source": [
    "from sklearn.metrics import confusion_matrix\n",
    "\n",
    "confusion_matrix( precip_df_test_y, precip_df_test_pred )"
   ]
  },
  {
   "cell_type": "markdown",
   "id": "ae0d40bc",
   "metadata": {},
   "source": [
    "# Rain Logic"
   ]
  },
  {
   "cell_type": "code",
   "execution_count": 46,
   "id": "22f97911",
   "metadata": {
    "scrolled": true
   },
   "outputs": [
    {
     "data": {
      "text/plain": [
       "Rain                        1.000000\n",
       "Precip                      0.730351\n",
       "Rainfall(mm)                0.526137\n",
       "Humidity(%)                 0.397400\n",
       "Dew point temperature(C)    0.201493\n",
       "Temperature(C)              0.071170\n",
       "Snowfall (cm)               0.023428\n",
       "Weekday                    -0.002510\n",
       "Hour                       -0.032044\n",
       "Wind speed (m/s)           -0.043188\n",
       "Solar Radiation (MJ/m2)    -0.133911\n",
       "Rented Bike Count          -0.212752\n",
       "Visibility (10m)           -0.264029\n",
       "Name: Rain, dtype: float64"
      ]
     },
     "execution_count": 46,
     "metadata": {},
     "output_type": "execute_result"
    }
   ],
   "source": [
    "bike_df.corr( )['Rain'].sort_values( ascending=False )"
   ]
  },
  {
   "cell_type": "code",
   "execution_count": 47,
   "id": "e8845f0c",
   "metadata": {},
   "outputs": [
    {
     "data": {
      "text/plain": [
       "<seaborn.axisgrid.PairGrid at 0x14a58673220>"
      ]
     },
     "execution_count": 47,
     "metadata": {},
     "output_type": "execute_result"
    },
    {
     "data": {
      "image/png": "[encoded data removed]",
      "text/plain": [
       "<Figure size 1597.25x1152 with 6 Axes>"
      ]
     },
     "metadata": {
      "needs_background": "light"
     },
     "output_type": "display_data"
    }
   ],
   "source": [
    "cols_needed = [ 'Rainfall(mm)', 'Humidity(%)', 'Rain' ]\n",
    "sns.pairplot( data=bike_df[cols_needed], hue='Rain', height=8, aspect=8/6 ) #This will take some time"
   ]
  },
  {
   "cell_type": "code",
   "execution_count": 48,
   "id": "52dd177b",
   "metadata": {},
   "outputs": [],
   "source": [
    "bike_df['Rain_test'] = np.where( bike_df['Rainfall(mm)']>0, True, False )"
   ]
  },
  {
   "cell_type": "code",
   "execution_count": 49,
   "id": "13e24f13",
   "metadata": {},
   "outputs": [
    {
     "data": {
      "text/plain": [
       "False    6581\n",
       "True      427\n",
       "Name: Rain_test, dtype: int64"
      ]
     },
     "execution_count": 49,
     "metadata": {},
     "output_type": "execute_result"
    }
   ],
   "source": [
    "bike_df['Rain_test'].value_counts( )"
   ]
  },
  {
   "cell_type": "code",
   "execution_count": 50,
   "id": "2ad74839",
   "metadata": {},
   "outputs": [
    {
     "data": {
      "text/plain": [
       "False    6581\n",
       "True      427\n",
       "Name: Rain, dtype: int64"
      ]
     },
     "execution_count": 50,
     "metadata": {},
     "output_type": "execute_result"
    }
   ],
   "source": [
    "bike_df['Rain'].value_counts( )"
   ]
  },
  {
   "cell_type": "code",
   "execution_count": 51,
   "id": "7052073e",
   "metadata": {},
   "outputs": [
    {
     "data": {
      "text/plain": [
       "(0, 21)"
      ]
     },
     "execution_count": 51,
     "metadata": {},
     "output_type": "execute_result"
    }
   ],
   "source": [
    "bike_df[ bike_df['Rain']!=bike_df['Rain_test'] ].shape"
   ]
  },
  {
   "cell_type": "code",
   "execution_count": 52,
   "id": "73b78991",
   "metadata": {},
   "outputs": [],
   "source": [
    "bike_df.drop( columns=['Rain_test'], inplace=True )"
   ]
  },
  {
   "cell_type": "code",
   "execution_count": 53,
   "id": "747c9709",
   "metadata": {},
   "outputs": [
    {
     "data": {
      "text/plain": [
       "-0.21275176533032358"
      ]
     },
     "execution_count": 53,
     "metadata": {},
     "output_type": "execute_result"
    }
   ],
   "source": [
    "bike_df.corr( )['Rain']['Rented Bike Count']"
   ]
  },
  {
   "cell_type": "markdown",
   "id": "a7fa0cb1",
   "metadata": {},
   "source": [
    "# Snow Bool?"
   ]
  },
  {
   "cell_type": "code",
   "execution_count": 54,
   "id": "b7a54ea8",
   "metadata": {},
   "outputs": [],
   "source": [
    "bike_df['Snow'] = np.where( bike_df['Snowfall (cm)']>0, True, False )"
   ]
  },
  {
   "cell_type": "code",
   "execution_count": 55,
   "id": "1193ddb0",
   "metadata": {},
   "outputs": [
    {
     "data": {
      "text/plain": [
       "False    6650\n",
       "True      358\n",
       "Name: Snow, dtype: int64"
      ]
     },
     "execution_count": 55,
     "metadata": {},
     "output_type": "execute_result"
    }
   ],
   "source": [
    "bike_df['Snow'].value_counts( )"
   ]
  },
  {
   "cell_type": "code",
   "execution_count": 56,
   "id": "4b618e5a",
   "metadata": {},
   "outputs": [
    {
     "data": {
      "text/plain": [
       "-0.1872721066197821"
      ]
     },
     "execution_count": 56,
     "metadata": {},
     "output_type": "execute_result"
    }
   ],
   "source": [
    "bike_df.corr( )['Snow']['Rented Bike Count']"
   ]
  },
  {
   "cell_type": "code",
   "execution_count": 57,
   "id": "d1d42c6e",
   "metadata": {},
   "outputs": [
    {
     "data": {
      "text/plain": [
       "Temperature(C)              1.000000\n",
       "Dew point temperature(C)    0.910469\n",
       "Rented Bike Count           0.538230\n",
       "Solar Radiation (MJ/m2)     0.356301\n",
       "Humidity(%)                 0.146738\n",
       "Hour                        0.126586\n",
       "Rain                        0.071170\n",
       "Rainfall(mm)                0.046717\n",
       "Visibility (10m)            0.044345\n",
       "Weekday                    -0.003579\n",
       "Wind speed (m/s)           -0.033718\n",
       "Precip                     -0.167090\n",
       "Snowfall (cm)              -0.217102\n",
       "Snow                       -0.333080\n",
       "Name: Temperature(C), dtype: float64"
      ]
     },
     "execution_count": 57,
     "metadata": {},
     "output_type": "execute_result"
    }
   ],
   "source": [
    "bike_df.corr( )['Temperature(C)'].sort_values( ascending=False )"
   ]
  },
  {
   "cell_type": "markdown",
   "id": "bb9ce9aa",
   "metadata": {},
   "source": [
    "# Functioning Day"
   ]
  },
  {
   "cell_type": "code",
   "execution_count": 58,
   "id": "2e5e7917",
   "metadata": {},
   "outputs": [
    {
     "data": {
      "text/plain": [
       "Rented Bike Count           1.000000\n",
       "Temperature(C)              0.562200\n",
       "Hour                        0.433893\n",
       "Dew point temperature(C)    0.398076\n",
       "Solar Radiation (MJ/m2)     0.273859\n",
       "Visibility (10m)            0.218524\n",
       "Wind speed (m/s)            0.125457\n",
       "Weekday                    -0.037368\n",
       "Rainfall(mm)               -0.129028\n",
       "Snowfall (cm)              -0.151255\n",
       "Snow                       -0.200571\n",
       "Humidity(%)                -0.206136\n",
       "Rain                       -0.224005\n",
       "Precip                     -0.303064\n",
       "Name: Rented Bike Count, dtype: float64"
      ]
     },
     "execution_count": 58,
     "metadata": {},
     "output_type": "execute_result"
    }
   ],
   "source": [
    "bike_df[ bike_df['Functioning Day']=='Yes' ].corr( )['Rented Bike Count'].sort_values( ascending=False )"
   ]
  },
  {
   "cell_type": "code",
   "execution_count": 59,
   "id": "9cfd1f2a",
   "metadata": {},
   "outputs": [
    {
     "data": {
      "text/plain": [
       "Rented Bike Count           1.000000\n",
       "Temperature(C)              0.538230\n",
       "Hour                        0.418294\n",
       "Dew point temperature(C)    0.377737\n",
       "Solar Radiation (MJ/m2)     0.258930\n",
       "Visibility (10m)            0.204672\n",
       "Wind speed (m/s)            0.121388\n",
       "Weekday                    -0.032051\n",
       "Rainfall(mm)               -0.123586\n",
       "Snowfall (cm)              -0.141440\n",
       "Snow                       -0.187272\n",
       "Humidity(%)                -0.202004\n",
       "Rain                       -0.212752\n",
       "Precip                     -0.285473\n",
       "Name: Rented Bike Count, dtype: float64"
      ]
     },
     "execution_count": 59,
     "metadata": {},
     "output_type": "execute_result"
    }
   ],
   "source": [
    "bike_df.corr( )['Rented Bike Count'].sort_values( ascending=False )"
   ]
  },
  {
   "cell_type": "markdown",
   "id": "50b9b660",
   "metadata": {},
   "source": [
    "# Cyclic Encoding"
   ]
  },
  {
   "cell_type": "code",
   "execution_count": 60,
   "id": "3ad1f843",
   "metadata": {},
   "outputs": [],
   "source": [
    "bike_df = bike_df[ bike_df['Functioning Day']=='Yes' ]\n",
    "bike_df.drop( columns=['Functioning Day'], inplace=True )"
   ]
  },
  {
   "cell_type": "code",
   "execution_count": 61,
   "id": "6ebb1a24",
   "metadata": {},
   "outputs": [],
   "source": [
    "bike_df['Seasons'] = bike_df['Seasons'].replace( {'Winter': 0, 'Spring': 1, 'Summer': 2, 'Autumn': 3} )"
   ]
  },
  {
   "cell_type": "code",
   "execution_count": 62,
   "id": "13e7bb23",
   "metadata": {},
   "outputs": [],
   "source": [
    "bike_df['Holiday'] = bike_df['Holiday'].replace( {'Holiday': True, 'No Holiday': False} )"
   ]
  },
  {
   "cell_type": "code",
   "execution_count": 63,
   "id": "7aa18c37",
   "metadata": {},
   "outputs": [],
   "source": [
    "bike_df['Date'] = pd.to_datetime( bike_df['Date'], infer_datetime_format=True )\n",
    "    \n",
    "bike_df['Weekday'] = bike_df['Date'].dt.dayofweek\n",
    "bike_df['Day'] = bike_df['Date'].dt.day\n",
    "bike_df['Month'] = bike_df['Date'].dt.month\n",
    "\n",
    "bike_df.drop( columns=['Date'], inplace=True )"
   ]
  },
  {
   "cell_type": "code",
   "execution_count": 64,
   "id": "13675106",
   "metadata": {},
   "outputs": [
    {
     "data": {
      "text/plain": [
       "Rented Bike Count           1.000000\n",
       "Temperature(C)              0.562200\n",
       "Hour                        0.433893\n",
       "Seasons                     0.423301\n",
       "Dew point temperature(C)    0.398076\n",
       "Solar Radiation (MJ/m2)     0.273859\n",
       "Visibility (10m)            0.218524\n",
       "Month                       0.170317\n",
       "Wind speed (m/s)            0.125457\n",
       "Day                         0.007725\n",
       "Weekday                    -0.037368\n",
       "Holiday                    -0.076288\n",
       "Rainfall(mm)               -0.129028\n",
       "Snowfall (cm)              -0.151255\n",
       "Snow                       -0.200571\n",
       "Humidity(%)                -0.206136\n",
       "Rain                       -0.224005\n",
       "Precip                     -0.303064\n",
       "Name: Rented Bike Count, dtype: float64"
      ]
     },
     "execution_count": 64,
     "metadata": {},
     "output_type": "execute_result"
    }
   ],
   "source": [
    "bike_df.corr( )['Rented Bike Count'].sort_values( ascending=False )"
   ]
  },
  {
   "cell_type": "code",
   "execution_count": 65,
   "id": "b8aa7946",
   "metadata": {},
   "outputs": [],
   "source": [
    "# Cyclic Encoding\n",
    "bike_df['Hour_sin'] = np.sin( 2 * np.pi * bike_df['Hour'] / 23.0 )\n",
    "bike_df['Hour_cos'] = np.cos( 2 * np.pi * bike_df['Hour'] / 23.0 )\n",
    "\n",
    "bike_df['Seasons_sin'] = np.sin( 2 * np.pi * bike_df['Seasons'] / 3.0 )\n",
    "bike_df['Seasons_cos'] = np.cos( 2 * np.pi * bike_df['Seasons'] / 3.0 )\n",
    "\n",
    "bike_df['Weekday_sin'] = np.sin( 2 * np.pi * bike_df['Weekday'] / 3.0 )\n",
    "bike_df['Weekday_cos'] = np.cos( 2 * np.pi * bike_df['Weekday'] / 3.0 )\n",
    "\n",
    "bike_df['Day_sin'] = np.sin( 2 * np.pi * ( bike_df['Day'] - 1 ) / 30.0 )\n",
    "bike_df['Day_cos'] = np.cos( 2 * np.pi * ( bike_df['Day'] - 1 )/ 30.0 )\n",
    "\n",
    "bike_df['Month_sin'] = np.sin( 2 * np.pi * ( bike_df['Month'] - 1 ) / 11.0 )\n",
    "bike_df['Month_cos'] = np.cos( 2 * np.pi * ( bike_df['Month'] - 1 ) / 11.0 )\n",
    "\n",
    "bike_df.drop( columns=['Day', 'Month', 'Hour', 'Seasons', 'Weekday', 'Year'], inplace=True )"
   ]
  },
  {
   "cell_type": "code",
   "execution_count": 66,
   "id": "bc53ffac",
   "metadata": {},
   "outputs": [
    {
     "data": {
      "text/plain": [
       "Rented Bike Count           1.000000\n",
       "Temperature(C)              0.562200\n",
       "Dew point temperature(C)    0.398076\n",
       "Solar Radiation (MJ/m2)     0.273859\n",
       "Visibility (10m)            0.218524\n",
       "Wind speed (m/s)            0.125457\n",
       "Day_sin                     0.010626\n",
       "Weekday_sin                 0.007840\n",
       "Day_cos                    -0.022846\n",
       "Hour_cos                   -0.033910\n",
       "Weekday_cos                -0.040930\n",
       "Holiday                    -0.076288\n",
       "Rainfall(mm)               -0.129028\n",
       "Snowfall (cm)              -0.151255\n",
       "Month_sin                  -0.161665\n",
       "Seasons_sin                -0.164770\n",
       "Snow                       -0.200571\n",
       "Humidity(%)                -0.206136\n",
       "Rain                       -0.224005\n",
       "Seasons_cos                -0.253747\n",
       "Precip                     -0.303064\n",
       "Month_cos                  -0.445776\n",
       "Hour_sin                   -0.458301\n",
       "Name: Rented Bike Count, dtype: float64"
      ]
     },
     "execution_count": 66,
     "metadata": {},
     "output_type": "execute_result"
    }
   ],
   "source": [
    "bike_df.corr( )['Rented Bike Count'].sort_values( ascending=False )"
   ]
  },
  {
   "cell_type": "code",
   "execution_count": 67,
   "id": "26bc9268",
   "metadata": {},
   "outputs": [],
   "source": [
    "median_temp = bike_df.dropna( subset=['Temperature(C)'] )['Temperature(C)'].median( )\n",
    "\n",
    "bike_df['Temperature(C)'].fillna( median_temp, inplace=True )"
   ]
  },
  {
   "cell_type": "code",
   "execution_count": 68,
   "id": "fa94b7b3",
   "metadata": {},
   "outputs": [],
   "source": [
    "bike_df_x = bike_df.drop( columns=['Rented Bike Count'] )\n",
    "bike_df_y = bike_df['Rented Bike Count']"
   ]
  },
  {
   "cell_type": "code",
   "execution_count": 69,
   "id": "20ca10e2",
   "metadata": {},
   "outputs": [],
   "source": [
    "scaler = StandardScaler( )\n",
    "\n",
    "scaler.fit( bike_df_x )\n",
    "scaled_ndarray = scaler.transform( bike_df_x )\n",
    "scaled_bike_df_x = pd.DataFrame( scaled_ndarray, columns=bike_df_x.columns, index=bike_df_x.index )    "
   ]
  },
  {
   "cell_type": "code",
   "execution_count": 70,
   "id": "f80c094f",
   "metadata": {},
   "outputs": [
    {
     "name": "stdout",
     "output_type": "stream",
     "text": [
      "Mean Squared Error = 423.7106054352867\n",
      "316.03073942507837\n"
     ]
    }
   ],
   "source": [
    "lin_reg = LinearRegression( )\n",
    "lin_reg_model = lin_reg.fit( scaled_bike_df_x, bike_df_y )\n",
    "\n",
    "y_pred = lin_reg_model.predict( scaled_bike_df_x )\n",
    "print( 'Mean Squared Error = ' + str(mean_squared_error( bike_df_y, y_pred, squared=False )) )\n",
    "\n",
    "print( np.sum( np.abs( (bike_df_y - y_pred) ) ) / len( bike_df_y ) )"
   ]
  },
  {
   "cell_type": "code",
   "execution_count": 71,
   "id": "10318c60",
   "metadata": {},
   "outputs": [],
   "source": [
    "inside_brain = pd.DataFrame( )\n",
    "\n",
    "inside_brain['theta'] = lin_reg_model.coef_\n",
    "inside_brain['feature'] = bike_df_x.columns.tolist( ) "
   ]
  },
  {
   "cell_type": "code",
   "execution_count": 72,
   "id": "d48cb10c",
   "metadata": {},
   "outputs": [
    {
     "data": {
      "text/html": [
       "<div>\n",
       "<style scoped>\n",
       "    .dataframe tbody tr th:only-of-type {\n",
       "        vertical-align: middle;\n",
       "    }\n",
       "\n",
       "    .dataframe tbody tr th {\n",
       "        vertical-align: top;\n",
       "    }\n",
       "\n",
       "    .dataframe thead th {\n",
       "        text-align: right;\n",
       "    }\n",
       "</style>\n",
       "<table border=\"1\" class=\"dataframe\">\n",
       "  <thead>\n",
       "    <tr style=\"text-align: right;\">\n",
       "      <th></th>\n",
       "      <th>theta</th>\n",
       "      <th>feature</th>\n",
       "    </tr>\n",
       "  </thead>\n",
       "  <tbody>\n",
       "    <tr>\n",
       "      <th>21</th>\n",
       "      <td>-322.222521</td>\n",
       "      <td>Month_cos</td>\n",
       "    </tr>\n",
       "    <tr>\n",
       "      <th>12</th>\n",
       "      <td>-250.498249</td>\n",
       "      <td>Hour_sin</td>\n",
       "    </tr>\n",
       "    <tr>\n",
       "      <th>1</th>\n",
       "      <td>-206.649300</td>\n",
       "      <td>Humidity(%)</td>\n",
       "    </tr>\n",
       "    <tr>\n",
       "      <th>10</th>\n",
       "      <td>-188.308909</td>\n",
       "      <td>Precip</td>\n",
       "    </tr>\n",
       "    <tr>\n",
       "      <th>5</th>\n",
       "      <td>-119.953212</td>\n",
       "      <td>Solar Radiation (MJ/m2)</td>\n",
       "    </tr>\n",
       "    <tr>\n",
       "      <th>13</th>\n",
       "      <td>-60.070434</td>\n",
       "      <td>Hour_cos</td>\n",
       "    </tr>\n",
       "    <tr>\n",
       "      <th>20</th>\n",
       "      <td>-41.027494</td>\n",
       "      <td>Month_sin</td>\n",
       "    </tr>\n",
       "    <tr>\n",
       "      <th>8</th>\n",
       "      <td>-34.366616</td>\n",
       "      <td>Holiday</td>\n",
       "    </tr>\n",
       "    <tr>\n",
       "      <th>17</th>\n",
       "      <td>-21.119409</td>\n",
       "      <td>Weekday_cos</td>\n",
       "    </tr>\n",
       "    <tr>\n",
       "      <th>6</th>\n",
       "      <td>-15.092994</td>\n",
       "      <td>Rainfall(mm)</td>\n",
       "    </tr>\n",
       "    <tr>\n",
       "      <th>3</th>\n",
       "      <td>-11.709674</td>\n",
       "      <td>Visibility (10m)</td>\n",
       "    </tr>\n",
       "    <tr>\n",
       "      <th>7</th>\n",
       "      <td>-8.966452</td>\n",
       "      <td>Snowfall (cm)</td>\n",
       "    </tr>\n",
       "    <tr>\n",
       "      <th>2</th>\n",
       "      <td>-7.664763</td>\n",
       "      <td>Wind speed (m/s)</td>\n",
       "    </tr>\n",
       "    <tr>\n",
       "      <th>19</th>\n",
       "      <td>-6.775889</td>\n",
       "      <td>Day_cos</td>\n",
       "    </tr>\n",
       "    <tr>\n",
       "      <th>9</th>\n",
       "      <td>-3.292262</td>\n",
       "      <td>Rain</td>\n",
       "    </tr>\n",
       "    <tr>\n",
       "      <th>16</th>\n",
       "      <td>4.702810</td>\n",
       "      <td>Weekday_sin</td>\n",
       "    </tr>\n",
       "    <tr>\n",
       "      <th>18</th>\n",
       "      <td>10.373534</td>\n",
       "      <td>Day_sin</td>\n",
       "    </tr>\n",
       "    <tr>\n",
       "      <th>0</th>\n",
       "      <td>26.518289</td>\n",
       "      <td>Temperature(C)</td>\n",
       "    </tr>\n",
       "    <tr>\n",
       "      <th>14</th>\n",
       "      <td>116.753593</td>\n",
       "      <td>Seasons_sin</td>\n",
       "    </tr>\n",
       "    <tr>\n",
       "      <th>11</th>\n",
       "      <td>140.943724</td>\n",
       "      <td>Snow</td>\n",
       "    </tr>\n",
       "    <tr>\n",
       "      <th>15</th>\n",
       "      <td>154.540991</td>\n",
       "      <td>Seasons_cos</td>\n",
       "    </tr>\n",
       "    <tr>\n",
       "      <th>4</th>\n",
       "      <td>242.603416</td>\n",
       "      <td>Dew point temperature(C)</td>\n",
       "    </tr>\n",
       "  </tbody>\n",
       "</table>\n",
       "</div>"
      ],
      "text/plain": [
       "         theta                   feature\n",
       "21 -322.222521                 Month_cos\n",
       "12 -250.498249                  Hour_sin\n",
       "1  -206.649300               Humidity(%)\n",
       "10 -188.308909                    Precip\n",
       "5  -119.953212   Solar Radiation (MJ/m2)\n",
       "13  -60.070434                  Hour_cos\n",
       "20  -41.027494                 Month_sin\n",
       "8   -34.366616                   Holiday\n",
       "17  -21.119409               Weekday_cos\n",
       "6   -15.092994              Rainfall(mm)\n",
       "3   -11.709674          Visibility (10m)\n",
       "7    -8.966452             Snowfall (cm)\n",
       "2    -7.664763          Wind speed (m/s)\n",
       "19   -6.775889                   Day_cos\n",
       "9    -3.292262                      Rain\n",
       "16    4.702810               Weekday_sin\n",
       "18   10.373534                   Day_sin\n",
       "0    26.518289            Temperature(C)\n",
       "14  116.753593               Seasons_sin\n",
       "11  140.943724                      Snow\n",
       "15  154.540991               Seasons_cos\n",
       "4   242.603416  Dew point temperature(C)"
      ]
     },
     "execution_count": 72,
     "metadata": {},
     "output_type": "execute_result"
    }
   ],
   "source": [
    "inside_brain.sort_values( by=['theta'] )"
   ]
  },
  {
   "cell_type": "markdown",
   "id": "3a7c145b",
   "metadata": {},
   "source": [
    "# Polynomial in the Desert?"
   ]
  },
  {
   "cell_type": "code",
   "execution_count": 75,
   "id": "24d9847f",
   "metadata": {},
   "outputs": [
    {
     "data": {
      "text/plain": [
       "array([[ 1.00000000e+00,  9.95000000e+02,  1.32000000e+01, ...,\n",
       "         2.92292493e-01, -4.54815998e-01,  7.07707507e-01],\n",
       "       [ 1.00000000e+00,  1.19500000e+03,  2.29000000e+01, ...,\n",
       "         7.93732336e-02, -2.70320409e-01,  9.20626766e-01],\n",
       "       [ 1.00000000e+00,  1.44800000e+03,  1.12000000e+01, ...,\n",
       "         2.92292493e-01, -4.54815998e-01,  7.07707507e-01],\n",
       "       ...,\n",
       "       [ 1.00000000e+00,  9.99000000e+02,  2.95000000e+01, ...,\n",
       "         7.93732336e-02,  2.70320409e-01,  9.20626766e-01],\n",
       "       [ 1.00000000e+00,  3.22000000e+02, -3.40000000e+00, ...,\n",
       "         0.00000000e+00,  0.00000000e+00,  1.00000000e+00],\n",
       "       [ 1.00000000e+00,  1.50100000e+03,  1.93000000e+01, ...,\n",
       "         9.79746487e-01,  1.40866278e-01,  2.02535132e-02]])"
      ]
     },
     "execution_count": 75,
     "metadata": {},
     "output_type": "execute_result"
    }
   ],
   "source": [
    "from sklearn.preprocessing import PolynomialFeatures\n",
    "\n",
    "poly = PolynomialFeatures(2)\n",
    "poly.fit_transform( bike_df ) "
   ]
  },
  {
   "cell_type": "code",
   "execution_count": 94,
   "id": "792244d7",
   "metadata": {},
   "outputs": [
    {
     "data": {
      "text/plain": [
       "array(['1', 'Rented Bike Count', 'Temperature(C)', 'Humidity(%)',\n",
       "       'Wind speed (m/s)', 'Visibility (10m)', 'Dew point temperature(C)',\n",
       "       'Solar Radiation (MJ/m2)', 'Rainfall(mm)', 'Snowfall (cm)',\n",
       "       'Holiday', 'Rain', 'Precip', 'Snow', 'Hour_sin', 'Hour_cos',\n",
       "       'Seasons_sin', 'Seasons_cos', 'Weekday_sin', 'Weekday_cos',\n",
       "       'Day_sin', 'Day_cos', 'Month_sin', 'Month_cos',\n",
       "       'Rented Bike Count^2', 'Rented Bike Count Temperature(C)',\n",
       "       'Rented Bike Count Humidity(%)',\n",
       "       'Rented Bike Count Wind speed (m/s)',\n",
       "       'Rented Bike Count Visibility (10m)',\n",
       "       'Rented Bike Count Dew point temperature(C)',\n",
       "       'Rented Bike Count Solar Radiation (MJ/m2)',\n",
       "       'Rented Bike Count Rainfall(mm)',\n",
       "       'Rented Bike Count Snowfall (cm)', 'Rented Bike Count Holiday',\n",
       "       'Rented Bike Count Rain', 'Rented Bike Count Precip',\n",
       "       'Rented Bike Count Snow', 'Rented Bike Count Hour_sin',\n",
       "       'Rented Bike Count Hour_cos', 'Rented Bike Count Seasons_sin',\n",
       "       'Rented Bike Count Seasons_cos', 'Rented Bike Count Weekday_sin',\n",
       "       'Rented Bike Count Weekday_cos', 'Rented Bike Count Day_sin',\n",
       "       'Rented Bike Count Day_cos', 'Rented Bike Count Month_sin',\n",
       "       'Rented Bike Count Month_cos', 'Temperature(C)^2',\n",
       "       'Temperature(C) Humidity(%)', 'Temperature(C) Wind speed (m/s)',\n",
       "       'Temperature(C) Visibility (10m)',\n",
       "       'Temperature(C) Dew point temperature(C)',\n",
       "       'Temperature(C) Solar Radiation (MJ/m2)',\n",
       "       'Temperature(C) Rainfall(mm)', 'Temperature(C) Snowfall (cm)',\n",
       "       'Temperature(C) Holiday', 'Temperature(C) Rain',\n",
       "       'Temperature(C) Precip', 'Temperature(C) Snow',\n",
       "       'Temperature(C) Hour_sin', 'Temperature(C) Hour_cos',\n",
       "       'Temperature(C) Seasons_sin', 'Temperature(C) Seasons_cos',\n",
       "       'Temperature(C) Weekday_sin', 'Temperature(C) Weekday_cos',\n",
       "       'Temperature(C) Day_sin', 'Temperature(C) Day_cos',\n",
       "       'Temperature(C) Month_sin', 'Temperature(C) Month_cos',\n",
       "       'Humidity(%)^2', 'Humidity(%) Wind speed (m/s)',\n",
       "       'Humidity(%) Visibility (10m)',\n",
       "       'Humidity(%) Dew point temperature(C)',\n",
       "       'Humidity(%) Solar Radiation (MJ/m2)', 'Humidity(%) Rainfall(mm)',\n",
       "       'Humidity(%) Snowfall (cm)', 'Humidity(%) Holiday',\n",
       "       'Humidity(%) Rain', 'Humidity(%) Precip', 'Humidity(%) Snow',\n",
       "       'Humidity(%) Hour_sin', 'Humidity(%) Hour_cos',\n",
       "       'Humidity(%) Seasons_sin', 'Humidity(%) Seasons_cos',\n",
       "       'Humidity(%) Weekday_sin', 'Humidity(%) Weekday_cos',\n",
       "       'Humidity(%) Day_sin', 'Humidity(%) Day_cos',\n",
       "       'Humidity(%) Month_sin', 'Humidity(%) Month_cos',\n",
       "       'Wind speed (m/s)^2', 'Wind speed (m/s) Visibility (10m)',\n",
       "       'Wind speed (m/s) Dew point temperature(C)',\n",
       "       'Wind speed (m/s) Solar Radiation (MJ/m2)',\n",
       "       'Wind speed (m/s) Rainfall(mm)', 'Wind speed (m/s) Snowfall (cm)',\n",
       "       'Wind speed (m/s) Holiday', 'Wind speed (m/s) Rain',\n",
       "       'Wind speed (m/s) Precip', 'Wind speed (m/s) Snow',\n",
       "       'Wind speed (m/s) Hour_sin', 'Wind speed (m/s) Hour_cos',\n",
       "       'Wind speed (m/s) Seasons_sin', 'Wind speed (m/s) Seasons_cos',\n",
       "       'Wind speed (m/s) Weekday_sin', 'Wind speed (m/s) Weekday_cos',\n",
       "       'Wind speed (m/s) Day_sin', 'Wind speed (m/s) Day_cos',\n",
       "       'Wind speed (m/s) Month_sin', 'Wind speed (m/s) Month_cos',\n",
       "       'Visibility (10m)^2', 'Visibility (10m) Dew point temperature(C)',\n",
       "       'Visibility (10m) Solar Radiation (MJ/m2)',\n",
       "       'Visibility (10m) Rainfall(mm)', 'Visibility (10m) Snowfall (cm)',\n",
       "       'Visibility (10m) Holiday', 'Visibility (10m) Rain',\n",
       "       'Visibility (10m) Precip', 'Visibility (10m) Snow',\n",
       "       'Visibility (10m) Hour_sin', 'Visibility (10m) Hour_cos',\n",
       "       'Visibility (10m) Seasons_sin', 'Visibility (10m) Seasons_cos',\n",
       "       'Visibility (10m) Weekday_sin', 'Visibility (10m) Weekday_cos',\n",
       "       'Visibility (10m) Day_sin', 'Visibility (10m) Day_cos',\n",
       "       'Visibility (10m) Month_sin', 'Visibility (10m) Month_cos',\n",
       "       'Dew point temperature(C)^2',\n",
       "       'Dew point temperature(C) Solar Radiation (MJ/m2)',\n",
       "       'Dew point temperature(C) Rainfall(mm)',\n",
       "       'Dew point temperature(C) Snowfall (cm)',\n",
       "       'Dew point temperature(C) Holiday',\n",
       "       'Dew point temperature(C) Rain', 'Dew point temperature(C) Precip',\n",
       "       'Dew point temperature(C) Snow',\n",
       "       'Dew point temperature(C) Hour_sin',\n",
       "       'Dew point temperature(C) Hour_cos',\n",
       "       'Dew point temperature(C) Seasons_sin',\n",
       "       'Dew point temperature(C) Seasons_cos',\n",
       "       'Dew point temperature(C) Weekday_sin',\n",
       "       'Dew point temperature(C) Weekday_cos',\n",
       "       'Dew point temperature(C) Day_sin',\n",
       "       'Dew point temperature(C) Day_cos',\n",
       "       'Dew point temperature(C) Month_sin',\n",
       "       'Dew point temperature(C) Month_cos', 'Solar Radiation (MJ/m2)^2',\n",
       "       'Solar Radiation (MJ/m2) Rainfall(mm)',\n",
       "       'Solar Radiation (MJ/m2) Snowfall (cm)',\n",
       "       'Solar Radiation (MJ/m2) Holiday', 'Solar Radiation (MJ/m2) Rain',\n",
       "       'Solar Radiation (MJ/m2) Precip', 'Solar Radiation (MJ/m2) Snow',\n",
       "       'Solar Radiation (MJ/m2) Hour_sin',\n",
       "       'Solar Radiation (MJ/m2) Hour_cos',\n",
       "       'Solar Radiation (MJ/m2) Seasons_sin',\n",
       "       'Solar Radiation (MJ/m2) Seasons_cos',\n",
       "       'Solar Radiation (MJ/m2) Weekday_sin',\n",
       "       'Solar Radiation (MJ/m2) Weekday_cos',\n",
       "       'Solar Radiation (MJ/m2) Day_sin',\n",
       "       'Solar Radiation (MJ/m2) Day_cos',\n",
       "       'Solar Radiation (MJ/m2) Month_sin',\n",
       "       'Solar Radiation (MJ/m2) Month_cos', 'Rainfall(mm)^2',\n",
       "       'Rainfall(mm) Snowfall (cm)', 'Rainfall(mm) Holiday',\n",
       "       'Rainfall(mm) Rain', 'Rainfall(mm) Precip', 'Rainfall(mm) Snow',\n",
       "       'Rainfall(mm) Hour_sin', 'Rainfall(mm) Hour_cos',\n",
       "       'Rainfall(mm) Seasons_sin', 'Rainfall(mm) Seasons_cos',\n",
       "       'Rainfall(mm) Weekday_sin', 'Rainfall(mm) Weekday_cos',\n",
       "       'Rainfall(mm) Day_sin', 'Rainfall(mm) Day_cos',\n",
       "       'Rainfall(mm) Month_sin', 'Rainfall(mm) Month_cos',\n",
       "       'Snowfall (cm)^2', 'Snowfall (cm) Holiday', 'Snowfall (cm) Rain',\n",
       "       'Snowfall (cm) Precip', 'Snowfall (cm) Snow',\n",
       "       'Snowfall (cm) Hour_sin', 'Snowfall (cm) Hour_cos',\n",
       "       'Snowfall (cm) Seasons_sin', 'Snowfall (cm) Seasons_cos',\n",
       "       'Snowfall (cm) Weekday_sin', 'Snowfall (cm) Weekday_cos',\n",
       "       'Snowfall (cm) Day_sin', 'Snowfall (cm) Day_cos',\n",
       "       'Snowfall (cm) Month_sin', 'Snowfall (cm) Month_cos', 'Holiday^2',\n",
       "       'Holiday Rain', 'Holiday Precip', 'Holiday Snow',\n",
       "       'Holiday Hour_sin', 'Holiday Hour_cos', 'Holiday Seasons_sin',\n",
       "       'Holiday Seasons_cos', 'Holiday Weekday_sin',\n",
       "       'Holiday Weekday_cos', 'Holiday Day_sin', 'Holiday Day_cos',\n",
       "       'Holiday Month_sin', 'Holiday Month_cos', 'Rain^2', 'Rain Precip',\n",
       "       'Rain Snow', 'Rain Hour_sin', 'Rain Hour_cos', 'Rain Seasons_sin',\n",
       "       'Rain Seasons_cos', 'Rain Weekday_sin', 'Rain Weekday_cos',\n",
       "       'Rain Day_sin', 'Rain Day_cos', 'Rain Month_sin', 'Rain Month_cos',\n",
       "       'Precip^2', 'Precip Snow', 'Precip Hour_sin', 'Precip Hour_cos',\n",
       "       'Precip Seasons_sin', 'Precip Seasons_cos', 'Precip Weekday_sin',\n",
       "       'Precip Weekday_cos', 'Precip Day_sin', 'Precip Day_cos',\n",
       "       'Precip Month_sin', 'Precip Month_cos', 'Snow^2', 'Snow Hour_sin',\n",
       "       'Snow Hour_cos', 'Snow Seasons_sin', 'Snow Seasons_cos',\n",
       "       'Snow Weekday_sin', 'Snow Weekday_cos', 'Snow Day_sin',\n",
       "       'Snow Day_cos', 'Snow Month_sin', 'Snow Month_cos', 'Hour_sin^2',\n",
       "       'Hour_sin Hour_cos', 'Hour_sin Seasons_sin',\n",
       "       'Hour_sin Seasons_cos', 'Hour_sin Weekday_sin',\n",
       "       'Hour_sin Weekday_cos', 'Hour_sin Day_sin', 'Hour_sin Day_cos',\n",
       "       'Hour_sin Month_sin', 'Hour_sin Month_cos', 'Hour_cos^2',\n",
       "       'Hour_cos Seasons_sin', 'Hour_cos Seasons_cos',\n",
       "       'Hour_cos Weekday_sin', 'Hour_cos Weekday_cos', 'Hour_cos Day_sin',\n",
       "       'Hour_cos Day_cos', 'Hour_cos Month_sin', 'Hour_cos Month_cos',\n",
       "       'Seasons_sin^2', 'Seasons_sin Seasons_cos',\n",
       "       'Seasons_sin Weekday_sin', 'Seasons_sin Weekday_cos',\n",
       "       'Seasons_sin Day_sin', 'Seasons_sin Day_cos',\n",
       "       'Seasons_sin Month_sin', 'Seasons_sin Month_cos', 'Seasons_cos^2',\n",
       "       'Seasons_cos Weekday_sin', 'Seasons_cos Weekday_cos',\n",
       "       'Seasons_cos Day_sin', 'Seasons_cos Day_cos',\n",
       "       'Seasons_cos Month_sin', 'Seasons_cos Month_cos', 'Weekday_sin^2',\n",
       "       'Weekday_sin Weekday_cos', 'Weekday_sin Day_sin',\n",
       "       'Weekday_sin Day_cos', 'Weekday_sin Month_sin',\n",
       "       'Weekday_sin Month_cos', 'Weekday_cos^2', 'Weekday_cos Day_sin',\n",
       "       'Weekday_cos Day_cos', 'Weekday_cos Month_sin',\n",
       "       'Weekday_cos Month_cos', 'Day_sin^2', 'Day_sin Day_cos',\n",
       "       'Day_sin Month_sin', 'Day_sin Month_cos', 'Day_cos^2',\n",
       "       'Day_cos Month_sin', 'Day_cos Month_cos', 'Month_sin^2',\n",
       "       'Month_sin Month_cos', 'Month_cos^2'], dtype=object)"
      ]
     },
     "execution_count": 94,
     "metadata": {},
     "output_type": "execute_result"
    }
   ],
   "source": [
    "poly.get_feature_names_out( )"
   ]
  },
  {
   "cell_type": "code",
   "execution_count": 77,
   "id": "d7813b4a",
   "metadata": {},
   "outputs": [
    {
     "name": "stderr",
     "output_type": "stream",
     "text": [
      "C:\\Users\\yotit\\anaconda3\\envs\\pml\\lib\\site-packages\\pandas\\core\\frame.py:3678: PerformanceWarning: DataFrame is highly fragmented.  This is usually the result of calling `frame.insert` many times, which has poor performance.  Consider joining all columns at once using pd.concat(axis=1) instead.  To get a de-fragmented frame, use `newframe = frame.copy()`\n",
      "  self[col] = igetitem(value, i)\n"
     ]
    }
   ],
   "source": [
    "bike_df[ poly.get_feature_names_out( bike_df.columns ) ] = poly.fit_transform( bike_df ) "
   ]
  },
  {
   "cell_type": "code",
   "execution_count": 93,
   "id": "81f438c4",
   "metadata": {},
   "outputs": [
    {
     "name": "stdout",
     "output_type": "stream",
     "text": [
      "|                                                  |   Rented Bike Count |\n",
      "|:-------------------------------------------------|--------------------:|\n",
      "| Rented Bike Count                                |         1           |\n",
      "| Rented Bike Count^2                              |         0.940359    |\n",
      "| Rented Bike Count Visibility (10m)               |         0.915379    |\n",
      "| Rented Bike Count Temperature(C)                 |         0.910875    |\n",
      "| Rented Bike Count Humidity(%)                    |         0.900781    |\n",
      "| Rented Bike Count Wind speed (m/s)               |         0.822876    |\n",
      "| Rented Bike Count Dew point temperature(C)       |         0.718515    |\n",
      "| Temperature(C) Visibility (10m)                  |         0.567968    |\n",
      "| Temperature(C)                                   |         0.546457    |\n",
      "| Temperature(C) Wind speed (m/s)                  |         0.534341    |\n",
      "| Rented Bike Count Solar Radiation (MJ/m2)        |         0.498645    |\n",
      "| Temperature(C)^2                                 |         0.468567    |\n",
      "| Visibility (10m) Dew point temperature(C)        |         0.445598    |\n",
      "| Wind speed (m/s) Dew point temperature(C)        |         0.412325    |\n",
      "| Dew point temperature(C)                         |         0.398076    |\n",
      "| Temperature(C) Humidity(%)                       |         0.357205    |\n",
      "| Temperature(C) Solar Radiation (MJ/m2)           |         0.322533    |\n",
      "| Dew point temperature(C) Solar Radiation (MJ/m2) |         0.280138    |\n",
      "| Humidity(%) Solar Radiation (MJ/m2)              |         0.277601    |\n",
      "| Temperature(C) Dew point temperature(C)          |         0.275698    |\n",
      "| Humidity(%) Dew point temperature(C)             |         0.275622    |\n",
      "| Solar Radiation (MJ/m2)                          |         0.273859    |\n",
      "| Visibility (10m) Solar Radiation (MJ/m2)         |         0.268574    |\n",
      "| Seasons_sin^2                                    |         0.253747    |\n",
      "| Wind speed (m/s) Solar Radiation (MJ/m2)         |         0.233254    |\n",
      "| Dew point temperature(C) Seasons_cos             |         0.219248    |\n",
      "| Visibility (10m)                                 |         0.218524    |\n",
      "| Solar Radiation (MJ/m2)^2                        |         0.217801    |\n",
      "| Visibility (10m)^2                               |         0.198271    |\n",
      "| Wind speed (m/s) Visibility (10m)                |         0.182886    |\n",
      "| Month_sin^2                                      |         0.172606    |\n",
      "| Seasons_sin Month_cos                            |         0.170295    |\n",
      "| Seasons_sin Seasons_cos                          |         0.16477     |\n",
      "| Dew point temperature(C) Snow                    |         0.154313    |\n",
      "| Rented Bike Count Hour_cos                       |         0.152737    |\n",
      "| Dew point temperature(C) Snowfall (cm)           |         0.149997    |\n",
      "| Hour_sin Month_cos                               |         0.140729    |\n",
      "| Wind speed (m/s)                                 |         0.125457    |\n",
      "| Humidity(%) Visibility (10m)                     |         0.122218    |\n",
      "| Dew point temperature(C) Holiday                 |         0.107708    |\n",
      "| Rented Bike Count Holiday                        |         0.0959477   |\n",
      "| Rented Bike Count Weekday_cos                    |         0.0947087   |\n",
      "| Temperature(C) Snow                              |         0.0928026   |\n",
      "| Hour_sin^2                                       |         0.0823255   |\n",
      "| Seasons_sin Day_cos                              |         0.0809008   |\n",
      "| Snow Day_sin                                     |         0.0789186   |\n",
      "| Snowfall (cm) Day_sin                            |         0.0785462   |\n",
      "| Rain Month_cos                                   |         0.077001    |\n",
      "| Dew point temperature(C) Hour_cos                |         0.0769489   |\n",
      "| Wind speed (m/s)^2                               |         0.0695579   |\n",
      "| Precip Day_sin                                   |         0.0675195   |\n",
      "| Holiday Day_sin                                  |         0.0635915   |\n",
      "| Day_cos Month_sin                                |         0.0578359   |\n",
      "| Temperature(C) Snowfall (cm)                     |         0.056338    |\n",
      "| Temperature(C) Holiday                           |         0.0560966   |\n",
      "| Rainfall(mm) Month_cos                           |         0.0500202   |\n",
      "| Dew point temperature(C) Month_cos               |         0.045144    |\n",
      "| Temperature(C) Hour_cos                          |         0.0440034   |\n",
      "| Snow Seasons_sin                                 |         0.0435361   |\n",
      "| Snowfall (cm) Seasons_sin                        |         0.0420787   |\n",
      "| Weekday_sin^2                                    |         0.0409302   |\n",
      "| Holiday Day_cos                                  |         0.0405733   |\n",
      "| Weekday_sin Month_sin                            |         0.0400116   |\n",
      "| Dew point temperature(C) Day_sin                 |         0.0396032   |\n",
      "| Seasons_cos Day_sin                              |         0.0339635   |\n",
      "| Hour_sin Month_sin                               |         0.0320257   |\n",
      "| Rain Seasons_cos                                 |         0.0301281   |\n",
      "| Hour_sin Weekday_sin                             |         0.030039    |\n",
      "| Rented Bike Count Day_sin                        |         0.0289482   |\n",
      "| Dew point temperature(C) Weekday_cos             |         0.0287529   |\n",
      "| Weekday_sin Day_sin                              |         0.0263814   |\n",
      "| Rainfall(mm) Seasons_cos                         |         0.0254903   |\n",
      "| Temperature(C) Weekday_cos                       |         0.0252903   |\n",
      "| Humidity(%) Weekday_sin                          |         0.0250684   |\n",
      "| Temperature(C) Day_sin                           |         0.0247104   |\n",
      "| Hour_sin Seasons_sin                             |         0.02302     |\n",
      "| Day_cos^2                                        |         0.0207126   |\n",
      "| Solar Radiation (MJ/m2) Holiday                  |         0.020581    |\n",
      "| Day_cos Month_cos                                |         0.0204928   |\n",
      "| Humidity(%) Wind speed (m/s)                     |         0.0201569   |\n",
      "| Humidity(%) Day_sin                              |         0.0183748   |\n",
      "| Rainfall(mm) Hour_cos                            |         0.0174439   |\n",
      "| Snowfall (cm) Weekday_sin                        |         0.0172003   |\n",
      "| Snow Weekday_sin                                 |         0.0165831   |\n",
      "| Snowfall (cm) Hour_cos                           |         0.0160631   |\n",
      "| Rainfall(mm) Day_sin                             |         0.0149889   |\n",
      "| Snowfall (cm) Month_sin                          |         0.0149811   |\n",
      "| Hour_sin Day_cos                                 |         0.0145346   |\n",
      "| Rain Day_sin                                     |         0.0129294   |\n",
      "| Day_sin                                          |         0.0106261   |\n",
      "| Solar Radiation (MJ/m2) Weekday_cos              |         0.00947764  |\n",
      "| Precip Weekday_sin                               |         0.00930412  |\n",
      "| Visibility (10m) Day_sin                         |         0.00921944  |\n",
      "| Seasons_sin Month_sin                            |         0.00903679  |\n",
      "| Weekday_sin                                      |         0.00783995  |\n",
      "| Wind speed (m/s) Day_sin                         |         0.00662643  |\n",
      "| Dew point temperature(C) Weekday_sin             |         0.00651908  |\n",
      "| Seasons_sin Weekday_sin                          |         0.00477464  |\n",
      "| Snowfall (cm) Day_cos                            |         0.00454708  |\n",
      "| Seasons_cos Day_cos                              |         0.00326129  |\n",
      "| Rain Weekday_sin                                 |         0.00282382  |\n",
      "| Solar Radiation (MJ/m2) Day_sin                  |         0.00215635  |\n",
      "| Rainfall(mm) Seasons_sin                         |         0.000331589 |\n",
      "| Wind speed (m/s) Weekday_sin                     |        -0.000127485 |\n",
      "| Hour_cos Weekday_sin                             |        -0.00043277  |\n",
      "| Weekday_cos Day_cos                              |        -0.000992418 |\n",
      "| Snow Month_sin                                   |        -0.00283353  |\n",
      "| Weekday_sin Month_cos                            |        -0.00298382  |\n",
      "| Rented Bike Count Weekday_sin                    |        -0.00311672  |\n",
      "| Hour_cos Weekday_cos                             |        -0.00376986  |\n",
      "| Temperature(C) Seasons_cos                       |        -0.00388896  |\n",
      "| Wind speed (m/s) Hour_cos                        |        -0.0048698   |\n",
      "| Day_sin Day_cos                                  |        -0.00619575  |\n",
      "| Rainfall(mm) Hour_sin                            |        -0.00625903  |\n",
      "| Hour_sin Day_sin                                 |        -0.00628143  |\n",
      "| Day_sin Month_cos                                |        -0.00664801  |\n",
      "| Hour_cos Day_cos                                 |        -0.00704913  |\n",
      "| Rainfall(mm) Weekday_sin                         |        -0.0073998   |\n",
      "| Weekday_sin Weekday_cos                          |        -0.00783995  |\n",
      "| Wind speed (m/s) Day_cos                         |        -0.00818176  |\n",
      "| Solar Radiation (MJ/m2) Day_cos                  |        -0.00846006  |\n",
      "| Temperature(C) Weekday_sin                       |        -0.00876013  |\n",
      "| Visibility (10m) Hour_cos                        |        -0.00965385  |\n",
      "| Snow Hour_cos                                    |        -0.0100716   |\n",
      "| Snow Weekday_cos                                 |        -0.0101531   |\n",
      "| Hour_cos Day_sin                                 |        -0.0103921   |\n",
      "| Weekday_cos Day_sin                              |        -0.0106559   |\n",
      "| Visibility (10m) Weekday_sin                     |        -0.0120843   |\n",
      "| Weekday_sin Day_cos                              |        -0.013794    |\n",
      "| Snowfall (cm) Weekday_cos                        |        -0.0140053   |\n",
      "| Dew point temperature(C)^2                       |        -0.0143683   |\n",
      "| Solar Radiation (MJ/m2) Month_sin                |        -0.0158694   |\n",
      "| Rainfall(mm) Month_sin                           |        -0.0168604   |\n",
      "| Precip Hour_cos                                  |        -0.019038    |\n",
      "| Seasons_cos Weekday_sin                          |        -0.0197688   |\n",
      "| Day_sin^2                                        |        -0.0207126   |\n",
      "| Rain Hour_cos                                    |        -0.0213923   |\n",
      "| Seasons_cos Weekday_cos                          |        -0.0215633   |\n",
      "| Visibility (10m) Weekday_cos                     |        -0.0218906   |\n",
      "| Dew point temperature(C) Month_sin               |        -0.0219429   |\n",
      "| Holiday Hour_cos                                 |        -0.0221238   |\n",
      "| Day_cos                                          |        -0.0228455   |\n",
      "| Seasons_sin Weekday_cos                          |        -0.0229278   |\n",
      "| Wind speed (m/s) Weekday_cos                     |        -0.0233105   |\n",
      "| Rainfall(mm) Snowfall (cm)                       |        -0.023735    |\n",
      "| Solar Radiation (MJ/m2) Seasons_sin              |        -0.0243147   |\n",
      "| Dew point temperature(C) Day_cos                 |        -0.0244593   |\n",
      "| Rainfall(mm) Day_cos                             |        -0.0247254   |\n",
      "| Holiday Seasons_sin                              |        -0.0256474   |\n",
      "| Holiday Weekday_sin                              |        -0.0258879   |\n",
      "| Hour_sin Seasons_cos                             |        -0.0263791   |\n",
      "| Visibility (10m) Day_cos                         |        -0.0267285   |\n",
      "| Temperature(C) Day_cos                           |        -0.0278719   |\n",
      "| Snow Day_cos                                     |        -0.0284841   |\n",
      "| Rainfall(mm) Holiday                             |        -0.0299402   |\n",
      "| Rented Bike Count Rainfall(mm)                   |        -0.0301036   |\n",
      "| Humidity(%) Day_cos                              |        -0.0301664   |\n",
      "| Solar Radiation (MJ/m2) Weekday_sin              |        -0.032298    |\n",
      "| Hour_cos                                         |        -0.0339095   |\n",
      "| Rented Bike Count Day_cos                        |        -0.0340568   |\n",
      "| Rainfall(mm) Snow                                |        -0.0346174   |\n",
      "| Rain Seasons_sin                                 |        -0.0354503   |\n",
      "| Precip Seasons_sin                               |        -0.0354503   |\n",
      "| Humidity(%) Hour_cos                             |        -0.0363335   |\n",
      "| Rented Bike Count Rain                           |        -0.0386758   |\n",
      "| Rain Day_cos                                     |        -0.0397138   |\n",
      "| Weekday_cos Month_sin                            |        -0.0399527   |\n",
      "| Weekday_cos^2                                    |        -0.0409302   |\n",
      "| Weekday_cos                                      |        -0.0409302   |\n",
      "| Snowfall (cm) Rain                               |        -0.0421912   |\n",
      "| Dew point temperature(C) Precip                  |        -0.0422919   |\n",
      "| Snowfall (cm) Hour_sin                           |        -0.0425185   |\n",
      "| Precip Month_sin                                 |        -0.0426755   |\n",
      "| Rain Hour_sin                                    |        -0.0438079   |\n",
      "| Rain Month_sin                                   |        -0.0445456   |\n",
      "| Snow Hour_sin                                    |        -0.0446754   |\n",
      "| Rainfall(mm) Weekday_cos                         |        -0.0451479   |\n",
      "| Holiday Rain                                     |        -0.0468874   |\n",
      "| Precip Day_cos                                   |        -0.0483566   |\n",
      "| Snowfall (cm) Holiday                            |        -0.0501936   |\n",
      "| Hour_cos Month_sin                               |        -0.0513062   |\n",
      "| Holiday Snow                                     |        -0.0515868   |\n",
      "| Rainfall(mm)^2                                   |        -0.0553828   |\n",
      "| Precip Weekday_cos                               |        -0.0558595   |\n",
      "| Seasons_sin Day_sin                              |        -0.0576895   |\n",
      "| Weekday_cos Month_cos                            |        -0.0588784   |\n",
      "| Rain Snow                                        |        -0.0598484   |\n",
      "| Precip Hour_sin                                  |        -0.0613369   |\n",
      "| Humidity(%) Weekday_cos                          |        -0.0616727   |\n",
      "| Visibility (10m) Holiday                         |        -0.0618423   |\n",
      "| Rain Weekday_cos                                 |        -0.0637843   |\n",
      "| Hour_cos Seasons_cos                             |        -0.0641976   |\n",
      "| Holiday Month_sin                                |        -0.0651548   |\n",
      "| Holiday Precip                                   |        -0.0674374   |\n",
      "| Wind speed (m/s) Holiday                         |        -0.0699818   |\n",
      "| Day_sin Month_sin                                |        -0.0702752   |\n",
      "| Solar Radiation (MJ/m2) Snowfall (cm)            |        -0.0721765   |\n",
      "| Holiday                                          |        -0.0762882   |\n",
      "| Holiday^2                                        |        -0.0762882   |\n",
      "| Humidity(%) Holiday                              |        -0.077115    |\n",
      "| Solar Radiation (MJ/m2) Rain                     |        -0.0771996   |\n",
      "| Holiday Weekday_cos                              |        -0.0821271   |\n",
      "| Hour_cos^2                                       |        -0.0823255   |\n",
      "| Holiday Hour_sin                                 |        -0.084043    |\n",
      "| Solar Radiation (MJ/m2) Rainfall(mm)             |        -0.0845111   |\n",
      "| Temperature(C) Month_sin                         |        -0.0874001   |\n",
      "| Holiday Seasons_cos                              |        -0.0896388   |\n",
      "| Hour_sin Weekday_cos                             |        -0.0899911   |\n",
      "| Solar Radiation (MJ/m2) Snow                     |        -0.0908811   |\n",
      "| Snowfall (cm)^2                                  |        -0.0922948   |\n",
      "| Visibility (10m) Rainfall(mm)                    |        -0.0954245   |\n",
      "| Rented Bike Count Seasons_cos                    |        -0.0972886   |\n",
      "| Hour_cos Month_cos                               |        -0.0981419   |\n",
      "| Rented Bike Count Precip                         |        -0.0986838   |\n",
      "| Solar Radiation (MJ/m2) Seasons_cos              |        -0.0990304   |\n",
      "| Precip Month_cos                                 |        -0.0994257   |\n",
      "| Hour_cos Seasons_sin                             |        -0.100145    |\n",
      "| Wind speed (m/s) Rainfall(mm)                    |        -0.102974    |\n",
      "| Rented Bike Count Snowfall (cm)                  |        -0.105258    |\n",
      "| Dew point temperature(C) Rainfall(mm)            |        -0.10569     |\n",
      "| Temperature(C) Rainfall(mm)                      |        -0.107529    |\n",
      "| Solar Radiation (MJ/m2) Hour_cos                 |        -0.112267    |\n",
      "| Solar Radiation (MJ/m2) Precip                   |        -0.117458    |\n",
      "| Rented Bike Count Snow                           |        -0.119195    |\n",
      "| Wind speed (m/s) Month_sin                       |        -0.122722    |\n",
      "| Humidity(%) Rainfall(mm)                         |        -0.127401    |\n",
      "| Rainfall(mm) Precip                              |        -0.129028    |\n",
      "| Rainfall(mm)                                     |        -0.129028    |\n",
      "| Rainfall(mm) Rain                                |        -0.129028    |\n",
      "| Wind speed (m/s) Seasons_sin                     |        -0.129717    |\n",
      "| Rented Bike Count Month_sin                      |        -0.130398    |\n",
      "| Precip Seasons_cos                               |        -0.132578    |\n",
      "| Holiday Month_cos                                |        -0.133428    |\n",
      "| Humidity(%) Snowfall (cm)                        |        -0.134441    |\n",
      "| Temperature(C) Precip                            |        -0.135204    |\n",
      "| Visibility (10m) Snowfall (cm)                   |        -0.140132    |\n",
      "| Wind speed (m/s) Snowfall (cm)                   |        -0.145344    |\n",
      "| Visibility (10m) Seasons_sin                     |        -0.151152    |\n",
      "| Snowfall (cm)                                    |        -0.151255    |\n",
      "| Snowfall (cm) Snow                               |        -0.151255    |\n",
      "| Snowfall (cm) Seasons_cos                        |        -0.151255    |\n",
      "| Snowfall (cm) Precip                             |        -0.151255    |\n",
      "| Humidity(%) Month_sin                            |        -0.154355    |\n",
      "| Snowfall (cm) Month_cos                          |        -0.155256    |\n",
      "| Visibility (10m) Rain                            |        -0.159378    |\n",
      "| Temperature(C) Seasons_sin                       |        -0.160997    |\n",
      "| Month_sin                                        |        -0.161665    |\n",
      "| Seasons_sin                                      |        -0.16477     |\n",
      "| Visibility (10m) Month_sin                       |        -0.167571    |\n",
      "| Wind speed (m/s) Snow                            |        -0.170916    |\n",
      "| Visibility (10m) Snow                            |        -0.171961    |\n",
      "| Month_cos^2                                      |        -0.172606    |\n",
      "| Wind speed (m/s) Rain                            |        -0.178901    |\n",
      "| Dew point temperature(C) Rain                    |        -0.180185    |\n",
      "| Month_sin Month_cos                              |        -0.180561    |\n",
      "| Humidity(%) Seasons_sin                          |        -0.181453    |\n",
      "| Temperature(C) Rain                              |        -0.184739    |\n",
      "| Dew point temperature(C) Seasons_sin             |        -0.186302    |\n",
      "| Humidity(%) Snow                                 |        -0.188602    |\n",
      "| Precip Snow                                      |        -0.200571    |\n",
      "| Snow Seasons_cos                                 |        -0.200571    |\n",
      "| Snow                                             |        -0.200571    |\n",
      "| Snow^2                                           |        -0.200571    |\n",
      "| Snow Month_cos                                   |        -0.201196    |\n",
      "| Rented Bike Count Seasons_sin                    |        -0.204191    |\n",
      "| Humidity(%)                                      |        -0.206136    |\n",
      "| Humidity(%) Seasons_cos                          |        -0.214655    |\n",
      "| Rain Precip                                      |        -0.224005    |\n",
      "| Rain                                             |        -0.224005    |\n",
      "| Rain^2                                           |        -0.224005    |\n",
      "| Seasons_cos Month_sin                            |        -0.22463     |\n",
      "| Humidity(%) Rain                                 |        -0.225894    |\n",
      "| Visibility (10m) Seasons_cos                     |        -0.226221    |\n",
      "| Visibility (10m) Precip                          |        -0.234823    |\n",
      "| Humidity(%)^2                                    |        -0.241893    |\n",
      "| Wind speed (m/s) Precip                          |        -0.246618    |\n",
      "| Seasons_cos^2                                    |        -0.253747    |\n",
      "| Seasons_cos                                      |        -0.253747    |\n",
      "| Hour_sin Hour_cos                                |        -0.260498    |\n",
      "| Wind speed (m/s) Seasons_cos                     |        -0.262321    |\n",
      "| Solar Radiation (MJ/m2) Month_cos                |        -0.263627    |\n",
      "| Temperature(C) Month_cos                         |        -0.273046    |\n",
      "| Solar Radiation (MJ/m2) Hour_sin                 |        -0.273268    |\n",
      "| Seasons_cos Month_cos                            |        -0.278583    |\n",
      "| Dew point temperature(C) Hour_sin                |        -0.289983    |\n",
      "| Humidity(%) Precip                               |        -0.294003    |\n",
      "| Precip                                           |        -0.303064    |\n",
      "| Precip^2                                         |        -0.303064    |\n",
      "| Humidity(%) Month_cos                            |        -0.37382     |\n",
      "| Wind speed (m/s) Hour_sin                        |        -0.402289    |\n",
      "| Humidity(%) Hour_sin                             |        -0.413936    |\n",
      "| Month_cos                                        |        -0.445776    |\n",
      "| Visibility (10m) Month_cos                       |        -0.446259    |\n",
      "| Wind speed (m/s) Month_cos                       |        -0.453118    |\n",
      "| Hour_sin                                         |        -0.458301    |\n",
      "| Visibility (10m) Hour_sin                        |        -0.461085    |\n",
      "| Temperature(C) Hour_sin                          |        -0.48448     |\n",
      "| Rented Bike Count Month_cos                      |        -0.536184    |\n",
      "| Rented Bike Count Hour_sin                       |        -0.609248    |\n",
      "| 1                                                |       nan           |\n"
     ]
    }
   ],
   "source": [
    "corr_df = bike_df.corr( )['Rented Bike Count'].sort_values( ascending=False )\n",
    "print(corr_df.to_markdown( ))"
   ]
  }
 ],
 "metadata": {
  "kernelspec": {
   "display_name": "Python 3 (ipykernel)",
   "language": "python",
   "name": "python3"
  },
  "language_info": {
   "codemirror_mode": {
    "name": "ipython",
    "version": 3
   },
   "file_extension": ".py",
   "mimetype": "text/x-python",
   "name": "python",
   "nbconvert_exporter": "python",
   "pygments_lexer": "ipython3",
   "version": "3.9.7"
  }
 },
 "nbformat": 4,
 "nbformat_minor": 5
}
